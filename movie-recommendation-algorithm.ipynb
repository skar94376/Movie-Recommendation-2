{
 "cells": [
  {
   "attachments": {},
   "cell_type": "markdown",
   "metadata": {},
   "source": [
    "<!-- ![image.png](attachment:image.png) -->\n",
    "<img style=\"float: center;\" src=\"https://heartoflongmont.org/wp-content/uploads/2019/02/Movie-Recommendation.jpg\" width=\"500\" height=\"800\">"
   ]
  },
  {
   "cell_type": "markdown",
   "metadata": {
    "_uuid": "7298a7c5a105277fdb47bbd223eef6e71c25a6be"
   },
   "source": [
    "# Description\n",
    "CONTENT - BASED MOVIE RECOMMENDATION. \n",
    "The algorithm finds the most similar movies to a given movie. It takes into account the following attributes:\n",
    "- Title similarity\n",
    "- Genres similarity\n",
    "- Average user ratings\n",
    "- Number of user ratings\n",
    "- User given tags similarity\n",
    "- Movie year\n",
    "Each of the above attribute is given a weight which can be tuned to get the best possible result. \n",
    "\n",
    "For better performance of \"tag\" and \"title\" words analysis, the most frequent English words from the tags and movie titles using NLP's stopwords.\n",
    "\n",
    "Finally I created the recommendation algorithm and made some recommendation at the end. \n",
    "Enter the movieId and the model will return back the movies similar to it."
   ]
  },
  {
   "cell_type": "code",
   "execution_count": 1,
   "metadata": {
    "_uuid": "05225c625901f50711f7236f7bc347aba76f0ed9"
   },
   "outputs": [],
   "source": [
    "import numpy as np \n",
    "import pandas as pd \n",
    "from scipy import spatial\n",
    "import warnings\n",
    "warnings.filterwarnings('ignore')\n",
    "import re"
   ]
  },
  {
   "cell_type": "markdown",
   "metadata": {
    "_uuid": "f6342dab25a43b0673e19a5a6e5916a39f9b73e7"
   },
   "source": [
    "# Load and check data"
   ]
  },
  {
   "cell_type": "code",
   "execution_count": 2,
   "metadata": {
    "_cell_guid": "79c7e3d0-c299-4dcb-8224-4455121ee9b0",
    "_uuid": "d629ff2d2480ee46fbb7e2d37f6b5fab8052498a"
   },
   "outputs": [],
   "source": [
    "ratings = pd.read_csv(\"ratings.csv\")\n",
    "links = pd.read_csv(\"links.csv\")\n",
    "tags = pd.read_csv(\"tags.csv\")\n",
    "movies = pd.read_csv(\"movies.csv\")"
   ]
  },
  {
   "cell_type": "code",
   "execution_count": 3,
   "metadata": {},
   "outputs": [
    {
     "name": "stdout",
     "output_type": "stream",
     "text": [
      "(1048575, 4)\n"
     ]
    },
    {
     "data": {
      "text/html": [
       "<div>\n",
       "<style scoped>\n",
       "    .dataframe tbody tr th:only-of-type {\n",
       "        vertical-align: middle;\n",
       "    }\n",
       "\n",
       "    .dataframe tbody tr th {\n",
       "        vertical-align: top;\n",
       "    }\n",
       "\n",
       "    .dataframe thead th {\n",
       "        text-align: right;\n",
       "    }\n",
       "</style>\n",
       "<table border=\"1\" class=\"dataframe\">\n",
       "  <thead>\n",
       "    <tr style=\"text-align: right;\">\n",
       "      <th></th>\n",
       "      <th>userId</th>\n",
       "      <th>movieId</th>\n",
       "      <th>rating</th>\n",
       "      <th>timestamp</th>\n",
       "    </tr>\n",
       "  </thead>\n",
       "  <tbody>\n",
       "    <tr>\n",
       "      <th>0</th>\n",
       "      <td>1</td>\n",
       "      <td>2</td>\n",
       "      <td>3.5</td>\n",
       "      <td>1112486027</td>\n",
       "    </tr>\n",
       "    <tr>\n",
       "      <th>1</th>\n",
       "      <td>1</td>\n",
       "      <td>29</td>\n",
       "      <td>3.5</td>\n",
       "      <td>1112484676</td>\n",
       "    </tr>\n",
       "  </tbody>\n",
       "</table>\n",
       "</div>"
      ],
      "text/plain": [
       "   userId  movieId  rating   timestamp\n",
       "0       1        2     3.5  1112486027\n",
       "1       1       29     3.5  1112484676"
      ]
     },
     "execution_count": 3,
     "metadata": {},
     "output_type": "execute_result"
    }
   ],
   "source": [
    "print(ratings.shape)\n",
    "ratings.head(2)"
   ]
  },
  {
   "cell_type": "code",
   "execution_count": 4,
   "metadata": {},
   "outputs": [
    {
     "name": "stdout",
     "output_type": "stream",
     "text": [
      "(27278, 3)\n"
     ]
    },
    {
     "data": {
      "text/html": [
       "<div>\n",
       "<style scoped>\n",
       "    .dataframe tbody tr th:only-of-type {\n",
       "        vertical-align: middle;\n",
       "    }\n",
       "\n",
       "    .dataframe tbody tr th {\n",
       "        vertical-align: top;\n",
       "    }\n",
       "\n",
       "    .dataframe thead th {\n",
       "        text-align: right;\n",
       "    }\n",
       "</style>\n",
       "<table border=\"1\" class=\"dataframe\">\n",
       "  <thead>\n",
       "    <tr style=\"text-align: right;\">\n",
       "      <th></th>\n",
       "      <th>movieId</th>\n",
       "      <th>imdbId</th>\n",
       "      <th>tmdbId</th>\n",
       "    </tr>\n",
       "  </thead>\n",
       "  <tbody>\n",
       "    <tr>\n",
       "      <th>0</th>\n",
       "      <td>1</td>\n",
       "      <td>114709</td>\n",
       "      <td>862.0</td>\n",
       "    </tr>\n",
       "    <tr>\n",
       "      <th>1</th>\n",
       "      <td>2</td>\n",
       "      <td>113497</td>\n",
       "      <td>8844.0</td>\n",
       "    </tr>\n",
       "  </tbody>\n",
       "</table>\n",
       "</div>"
      ],
      "text/plain": [
       "   movieId  imdbId  tmdbId\n",
       "0        1  114709   862.0\n",
       "1        2  113497  8844.0"
      ]
     },
     "execution_count": 4,
     "metadata": {},
     "output_type": "execute_result"
    }
   ],
   "source": [
    "print(links.shape)\n",
    "links.head(2)"
   ]
  },
  {
   "cell_type": "code",
   "execution_count": 5,
   "metadata": {},
   "outputs": [
    {
     "name": "stdout",
     "output_type": "stream",
     "text": [
      "(465564, 4)\n"
     ]
    },
    {
     "data": {
      "text/html": [
       "<div>\n",
       "<style scoped>\n",
       "    .dataframe tbody tr th:only-of-type {\n",
       "        vertical-align: middle;\n",
       "    }\n",
       "\n",
       "    .dataframe tbody tr th {\n",
       "        vertical-align: top;\n",
       "    }\n",
       "\n",
       "    .dataframe thead th {\n",
       "        text-align: right;\n",
       "    }\n",
       "</style>\n",
       "<table border=\"1\" class=\"dataframe\">\n",
       "  <thead>\n",
       "    <tr style=\"text-align: right;\">\n",
       "      <th></th>\n",
       "      <th>userId</th>\n",
       "      <th>movieId</th>\n",
       "      <th>tag</th>\n",
       "      <th>timestamp</th>\n",
       "    </tr>\n",
       "  </thead>\n",
       "  <tbody>\n",
       "    <tr>\n",
       "      <th>0</th>\n",
       "      <td>18</td>\n",
       "      <td>4141</td>\n",
       "      <td>Mark Waters</td>\n",
       "      <td>1240597180</td>\n",
       "    </tr>\n",
       "    <tr>\n",
       "      <th>1</th>\n",
       "      <td>65</td>\n",
       "      <td>208</td>\n",
       "      <td>dark hero</td>\n",
       "      <td>1368150078</td>\n",
       "    </tr>\n",
       "  </tbody>\n",
       "</table>\n",
       "</div>"
      ],
      "text/plain": [
       "   userId  movieId          tag   timestamp\n",
       "0      18     4141  Mark Waters  1240597180\n",
       "1      65      208    dark hero  1368150078"
      ]
     },
     "execution_count": 5,
     "metadata": {},
     "output_type": "execute_result"
    }
   ],
   "source": [
    "print(tags.shape)\n",
    "tags.head(2)"
   ]
  },
  {
   "cell_type": "code",
   "execution_count": 6,
   "metadata": {},
   "outputs": [
    {
     "name": "stdout",
     "output_type": "stream",
     "text": [
      "(27278, 3)\n"
     ]
    },
    {
     "data": {
      "text/html": [
       "<div>\n",
       "<style scoped>\n",
       "    .dataframe tbody tr th:only-of-type {\n",
       "        vertical-align: middle;\n",
       "    }\n",
       "\n",
       "    .dataframe tbody tr th {\n",
       "        vertical-align: top;\n",
       "    }\n",
       "\n",
       "    .dataframe thead th {\n",
       "        text-align: right;\n",
       "    }\n",
       "</style>\n",
       "<table border=\"1\" class=\"dataframe\">\n",
       "  <thead>\n",
       "    <tr style=\"text-align: right;\">\n",
       "      <th></th>\n",
       "      <th>movieId</th>\n",
       "      <th>title</th>\n",
       "      <th>genres</th>\n",
       "    </tr>\n",
       "  </thead>\n",
       "  <tbody>\n",
       "    <tr>\n",
       "      <th>0</th>\n",
       "      <td>1</td>\n",
       "      <td>Toy Story (1995)</td>\n",
       "      <td>Adventure|Animation|Children|Comedy|Fantasy</td>\n",
       "    </tr>\n",
       "    <tr>\n",
       "      <th>1</th>\n",
       "      <td>2</td>\n",
       "      <td>Jumanji (1995)</td>\n",
       "      <td>Adventure|Children|Fantasy</td>\n",
       "    </tr>\n",
       "  </tbody>\n",
       "</table>\n",
       "</div>"
      ],
      "text/plain": [
       "   movieId             title                                       genres\n",
       "0        1  Toy Story (1995)  Adventure|Animation|Children|Comedy|Fantasy\n",
       "1        2    Jumanji (1995)                   Adventure|Children|Fantasy"
      ]
     },
     "execution_count": 6,
     "metadata": {},
     "output_type": "execute_result"
    }
   ],
   "source": [
    "print(movies.shape)\n",
    "movies.head(2)"
   ]
  },
  {
   "cell_type": "code",
   "execution_count": 7,
   "metadata": {},
   "outputs": [
    {
     "data": {
      "text/plain": [
       "movieId    0\n",
       "title      0\n",
       "genres     0\n",
       "dtype: int64"
      ]
     },
     "execution_count": 7,
     "metadata": {},
     "output_type": "execute_result"
    }
   ],
   "source": [
    "movies.isna().sum()"
   ]
  },
  {
   "cell_type": "markdown",
   "metadata": {
    "_uuid": "16ca6087c9f6243593b5ac662ad12a24c605368d"
   },
   "source": [
    "### RATINGS"
   ]
  },
  {
   "cell_type": "code",
   "execution_count": 8,
   "metadata": {
    "_uuid": "a84a674fae4a5be7b93bdb0a6cdf42e006156894"
   },
   "outputs": [
    {
     "name": "stdout",
     "output_type": "stream",
     "text": [
      "(1048575, 4)\n"
     ]
    },
    {
     "data": {
      "text/html": [
       "<div>\n",
       "<style scoped>\n",
       "    .dataframe tbody tr th:only-of-type {\n",
       "        vertical-align: middle;\n",
       "    }\n",
       "\n",
       "    .dataframe tbody tr th {\n",
       "        vertical-align: top;\n",
       "    }\n",
       "\n",
       "    .dataframe thead th {\n",
       "        text-align: right;\n",
       "    }\n",
       "</style>\n",
       "<table border=\"1\" class=\"dataframe\">\n",
       "  <thead>\n",
       "    <tr style=\"text-align: right;\">\n",
       "      <th></th>\n",
       "      <th>userId</th>\n",
       "      <th>movieId</th>\n",
       "      <th>rating</th>\n",
       "      <th>timestamp</th>\n",
       "    </tr>\n",
       "  </thead>\n",
       "  <tbody>\n",
       "    <tr>\n",
       "      <th>0</th>\n",
       "      <td>1</td>\n",
       "      <td>2</td>\n",
       "      <td>3.5</td>\n",
       "      <td>1112486027</td>\n",
       "    </tr>\n",
       "    <tr>\n",
       "      <th>1</th>\n",
       "      <td>1</td>\n",
       "      <td>29</td>\n",
       "      <td>3.5</td>\n",
       "      <td>1112484676</td>\n",
       "    </tr>\n",
       "    <tr>\n",
       "      <th>2</th>\n",
       "      <td>1</td>\n",
       "      <td>32</td>\n",
       "      <td>3.5</td>\n",
       "      <td>1112484819</td>\n",
       "    </tr>\n",
       "    <tr>\n",
       "      <th>3</th>\n",
       "      <td>1</td>\n",
       "      <td>47</td>\n",
       "      <td>3.5</td>\n",
       "      <td>1112484727</td>\n",
       "    </tr>\n",
       "    <tr>\n",
       "      <th>4</th>\n",
       "      <td>1</td>\n",
       "      <td>50</td>\n",
       "      <td>3.5</td>\n",
       "      <td>1112484580</td>\n",
       "    </tr>\n",
       "  </tbody>\n",
       "</table>\n",
       "</div>"
      ],
      "text/plain": [
       "   userId  movieId  rating   timestamp\n",
       "0       1        2     3.5  1112486027\n",
       "1       1       29     3.5  1112484676\n",
       "2       1       32     3.5  1112484819\n",
       "3       1       47     3.5  1112484727\n",
       "4       1       50     3.5  1112484580"
      ]
     },
     "execution_count": 8,
     "metadata": {},
     "output_type": "execute_result"
    }
   ],
   "source": [
    "print(ratings.shape)\n",
    "ratings.head(5)"
   ]
  },
  {
   "cell_type": "code",
   "execution_count": 9,
   "metadata": {
    "_uuid": "1849b3e32b364c77a5c939d649f2044326c25a20"
   },
   "outputs": [
    {
     "data": {
      "text/plain": [
       "count   1048575.000000\n",
       "mean          3.529272\n",
       "std           1.051919\n",
       "min           0.500000\n",
       "25%           3.000000\n",
       "50%           4.000000\n",
       "75%           4.000000\n",
       "max           5.000000\n",
       "Name: rating, dtype: float64"
      ]
     },
     "execution_count": 9,
     "metadata": {},
     "output_type": "execute_result"
    }
   ],
   "source": [
    "pd.options.display.float_format = '{:f}'.format\n",
    "ratings['rating'].describe()"
   ]
  },
  {
   "cell_type": "code",
   "execution_count": 10,
   "metadata": {
    "_uuid": "15b299909e1677c1b09e878ac043287237e2325e"
   },
   "outputs": [
    {
     "data": {
      "text/plain": [
       "<matplotlib.axes._subplots.AxesSubplot at 0x11040df0>"
      ]
     },
     "execution_count": 10,
     "metadata": {},
     "output_type": "execute_result"
    },
    {
     "data": {
      "image/png": "[encoded data removed]",
      "text/plain": [
       "<Figure size 432x288 with 1 Axes>"
      ]
     },
     "metadata": {
      "needs_background": "light"
     },
     "output_type": "display_data"
    }
   ],
   "source": [
    "ratings['rating'].hist()"
   ]
  },
  {
   "cell_type": "code",
   "execution_count": 11,
   "metadata": {
    "_uuid": "c3267a7ee77757fc6c69dd0eb6aa55b7340dd3bc"
   },
   "outputs": [
    {
     "data": {
      "text/plain": [
       "<matplotlib.axes._subplots.AxesSubplot at 0x110e0178>"
      ]
     },
     "execution_count": 11,
     "metadata": {},
     "output_type": "execute_result"
    },
    {
     "data": {
      "image/png": "[encoded data removed]",
      "text/plain": [
       "<Figure size 432x288 with 1 Axes>"
      ]
     },
     "metadata": {
      "needs_background": "light"
     },
     "output_type": "display_data"
    }
   ],
   "source": [
    "ratings['rating'].plot(kind='box')"
   ]
  },
  {
   "cell_type": "markdown",
   "metadata": {
    "_uuid": "3bd3c2ac5e7d74def4d7621ded83537758735d79"
   },
   "source": [
    "### Ratings group by"
   ]
  },
  {
   "cell_type": "markdown",
   "metadata": {
    "_uuid": "4c86093d37495d21366e8cf5034ae5da41a445f3"
   },
   "source": [
    "**Movie ratings aggregated by user:**"
   ]
  },
  {
   "cell_type": "code",
   "execution_count": 12,
   "metadata": {
    "_uuid": "0d50a3431cae9d95cc6132ef9373ae1daa8cff6c"
   },
   "outputs": [
    {
     "data": {
      "text/html": [
       "<div>\n",
       "<style scoped>\n",
       "    .dataframe tbody tr th:only-of-type {\n",
       "        vertical-align: middle;\n",
       "    }\n",
       "\n",
       "    .dataframe tbody tr th {\n",
       "        vertical-align: top;\n",
       "    }\n",
       "\n",
       "    .dataframe thead tr th {\n",
       "        text-align: left;\n",
       "    }\n",
       "</style>\n",
       "<table border=\"1\" class=\"dataframe\">\n",
       "  <thead>\n",
       "    <tr>\n",
       "      <th></th>\n",
       "      <th>userId</th>\n",
       "      <th colspan=\"2\" halign=\"left\">rating</th>\n",
       "    </tr>\n",
       "    <tr>\n",
       "      <th></th>\n",
       "      <th></th>\n",
       "      <th>size</th>\n",
       "      <th>mean</th>\n",
       "    </tr>\n",
       "  </thead>\n",
       "  <tbody>\n",
       "    <tr>\n",
       "      <th>0</th>\n",
       "      <td>1</td>\n",
       "      <td>175.000000</td>\n",
       "      <td>3.742857</td>\n",
       "    </tr>\n",
       "    <tr>\n",
       "      <th>1</th>\n",
       "      <td>2</td>\n",
       "      <td>61.000000</td>\n",
       "      <td>4.000000</td>\n",
       "    </tr>\n",
       "    <tr>\n",
       "      <th>2</th>\n",
       "      <td>3</td>\n",
       "      <td>187.000000</td>\n",
       "      <td>4.122995</td>\n",
       "    </tr>\n",
       "    <tr>\n",
       "      <th>3</th>\n",
       "      <td>4</td>\n",
       "      <td>28.000000</td>\n",
       "      <td>3.571429</td>\n",
       "    </tr>\n",
       "    <tr>\n",
       "      <th>4</th>\n",
       "      <td>5</td>\n",
       "      <td>66.000000</td>\n",
       "      <td>4.272727</td>\n",
       "    </tr>\n",
       "  </tbody>\n",
       "</table>\n",
       "</div>"
      ],
      "text/plain": [
       "  userId     rating         \n",
       "               size     mean\n",
       "0      1 175.000000 3.742857\n",
       "1      2  61.000000 4.000000\n",
       "2      3 187.000000 4.122995\n",
       "3      4  28.000000 3.571429\n",
       "4      5  66.000000 4.272727"
      ]
     },
     "execution_count": 12,
     "metadata": {},
     "output_type": "execute_result"
    }
   ],
   "source": [
    "userRatingsAggr = ratings.groupby(['userId']).agg({'rating': [np.size, np.mean]})\n",
    "userRatingsAggr.reset_index(inplace=True)  # To reset multilevel (pivot-like) index\n",
    "userRatingsAggr.head()"
   ]
  },
  {
   "cell_type": "code",
   "execution_count": 13,
   "metadata": {
    "_uuid": "b3835c3800dd52d2a08d593f42f76c448c00cef8"
   },
   "outputs": [
    {
     "data": {
      "text/html": [
       "<div>\n",
       "<style scoped>\n",
       "    .dataframe tbody tr th:only-of-type {\n",
       "        vertical-align: middle;\n",
       "    }\n",
       "\n",
       "    .dataframe tbody tr th {\n",
       "        vertical-align: top;\n",
       "    }\n",
       "\n",
       "    .dataframe thead th {\n",
       "        text-align: right;\n",
       "    }\n",
       "</style>\n",
       "<table border=\"1\" class=\"dataframe\">\n",
       "  <thead>\n",
       "    <tr style=\"text-align: right;\">\n",
       "      <th></th>\n",
       "      <th>size</th>\n",
       "      <th>mean</th>\n",
       "    </tr>\n",
       "  </thead>\n",
       "  <tbody>\n",
       "    <tr>\n",
       "      <th>count</th>\n",
       "      <td>7120.000000</td>\n",
       "      <td>7120.000000</td>\n",
       "    </tr>\n",
       "    <tr>\n",
       "      <th>mean</th>\n",
       "      <td>147.271770</td>\n",
       "      <td>3.620345</td>\n",
       "    </tr>\n",
       "    <tr>\n",
       "      <th>std</th>\n",
       "      <td>220.808148</td>\n",
       "      <td>0.448493</td>\n",
       "    </tr>\n",
       "    <tr>\n",
       "      <th>min</th>\n",
       "      <td>20.000000</td>\n",
       "      <td>0.600000</td>\n",
       "    </tr>\n",
       "    <tr>\n",
       "      <th>25%</th>\n",
       "      <td>35.000000</td>\n",
       "      <td>3.360000</td>\n",
       "    </tr>\n",
       "    <tr>\n",
       "      <th>50%</th>\n",
       "      <td>69.000000</td>\n",
       "      <td>3.650000</td>\n",
       "    </tr>\n",
       "    <tr>\n",
       "      <th>75%</th>\n",
       "      <td>161.000000</td>\n",
       "      <td>3.922854</td>\n",
       "    </tr>\n",
       "    <tr>\n",
       "      <th>max</th>\n",
       "      <td>2711.000000</td>\n",
       "      <td>5.000000</td>\n",
       "    </tr>\n",
       "  </tbody>\n",
       "</table>\n",
       "</div>"
      ],
      "text/plain": [
       "             size        mean\n",
       "count 7120.000000 7120.000000\n",
       "mean   147.271770    3.620345\n",
       "std    220.808148    0.448493\n",
       "min     20.000000    0.600000\n",
       "25%     35.000000    3.360000\n",
       "50%     69.000000    3.650000\n",
       "75%    161.000000    3.922854\n",
       "max   2711.000000    5.000000"
      ]
     },
     "execution_count": 13,
     "metadata": {},
     "output_type": "execute_result"
    }
   ],
   "source": [
    "userRatingsAggr['rating'].describe()"
   ]
  },
  {
   "cell_type": "code",
   "execution_count": 14,
   "metadata": {
    "_uuid": "818fc7c5d6d6450fc2818eb17b88afe6b0085732"
   },
   "outputs": [
    {
     "data": {
      "text/plain": [
       "size       AxesSubplot(0.125,0.125;0.352273x0.755)\n",
       "mean    AxesSubplot(0.547727,0.125;0.352273x0.755)\n",
       "dtype: object"
      ]
     },
     "execution_count": 14,
     "metadata": {},
     "output_type": "execute_result"
    },
    {
     "data": {
      "image/png": "[encoded data removed]",
      "text/plain": [
       "<Figure size 432x288 with 2 Axes>"
      ]
     },
     "metadata": {
      "needs_background": "light"
     },
     "output_type": "display_data"
    }
   ],
   "source": [
    "userRatingsAggr['rating'].plot(kind='box', subplots=True)"
   ]
  },
  {
   "cell_type": "markdown",
   "metadata": {
    "_uuid": "c5c5e7060eb4f418e22a1c59a5497a3b4400e458"
   },
   "source": [
    "**Movie ratings aggregated by movie:**"
   ]
  },
  {
   "cell_type": "code",
   "execution_count": 15,
   "metadata": {
    "_uuid": "aafbac03694f1a9f4082dceeb59f91d21f9d0bf9"
   },
   "outputs": [
    {
     "data": {
      "text/html": [
       "<div>\n",
       "<style scoped>\n",
       "    .dataframe tbody tr th:only-of-type {\n",
       "        vertical-align: middle;\n",
       "    }\n",
       "\n",
       "    .dataframe tbody tr th {\n",
       "        vertical-align: top;\n",
       "    }\n",
       "\n",
       "    .dataframe thead tr th {\n",
       "        text-align: left;\n",
       "    }\n",
       "</style>\n",
       "<table border=\"1\" class=\"dataframe\">\n",
       "  <thead>\n",
       "    <tr>\n",
       "      <th></th>\n",
       "      <th>movieId</th>\n",
       "      <th colspan=\"2\" halign=\"left\">rating</th>\n",
       "    </tr>\n",
       "    <tr>\n",
       "      <th></th>\n",
       "      <th></th>\n",
       "      <th>size</th>\n",
       "      <th>mean</th>\n",
       "    </tr>\n",
       "  </thead>\n",
       "  <tbody>\n",
       "    <tr>\n",
       "      <th>0</th>\n",
       "      <td>1</td>\n",
       "      <td>2569.000000</td>\n",
       "      <td>3.959323</td>\n",
       "    </tr>\n",
       "    <tr>\n",
       "      <th>1</th>\n",
       "      <td>2</td>\n",
       "      <td>1155.000000</td>\n",
       "      <td>3.268398</td>\n",
       "    </tr>\n",
       "    <tr>\n",
       "      <th>2</th>\n",
       "      <td>3</td>\n",
       "      <td>685.000000</td>\n",
       "      <td>3.186861</td>\n",
       "    </tr>\n",
       "    <tr>\n",
       "      <th>3</th>\n",
       "      <td>4</td>\n",
       "      <td>138.000000</td>\n",
       "      <td>3.000000</td>\n",
       "    </tr>\n",
       "    <tr>\n",
       "      <th>4</th>\n",
       "      <td>5</td>\n",
       "      <td>657.000000</td>\n",
       "      <td>3.143836</td>\n",
       "    </tr>\n",
       "  </tbody>\n",
       "</table>\n",
       "</div>"
      ],
      "text/plain": [
       "  movieId      rating         \n",
       "                 size     mean\n",
       "0       1 2569.000000 3.959323\n",
       "1       2 1155.000000 3.268398\n",
       "2       3  685.000000 3.186861\n",
       "3       4  138.000000 3.000000\n",
       "4       5  657.000000 3.143836"
      ]
     },
     "execution_count": 15,
     "metadata": {},
     "output_type": "execute_result"
    }
   ],
   "source": [
    "movieRatingsAggr = ratings.groupby(['movieId']).agg({'rating': [np.size, np.mean]})\n",
    "movieRatingsAggr.reset_index(inplace=True)\n",
    "movieRatingsAggr.head()\n",
    "# movieRatingsAggr.tail()"
   ]
  },
  {
   "cell_type": "code",
   "execution_count": 16,
   "metadata": {
    "_uuid": "5772b7b2716c488d332e639493f6000061d5033d"
   },
   "outputs": [
    {
     "data": {
      "text/html": [
       "<div>\n",
       "<style scoped>\n",
       "    .dataframe tbody tr th:only-of-type {\n",
       "        vertical-align: middle;\n",
       "    }\n",
       "\n",
       "    .dataframe tbody tr th {\n",
       "        vertical-align: top;\n",
       "    }\n",
       "\n",
       "    .dataframe thead th {\n",
       "        text-align: right;\n",
       "    }\n",
       "</style>\n",
       "<table border=\"1\" class=\"dataframe\">\n",
       "  <thead>\n",
       "    <tr style=\"text-align: right;\">\n",
       "      <th></th>\n",
       "      <th>size</th>\n",
       "      <th>mean</th>\n",
       "    </tr>\n",
       "  </thead>\n",
       "  <tbody>\n",
       "    <tr>\n",
       "      <th>count</th>\n",
       "      <td>14026.000000</td>\n",
       "      <td>14026.000000</td>\n",
       "    </tr>\n",
       "    <tr>\n",
       "      <th>mean</th>\n",
       "      <td>74.759375</td>\n",
       "      <td>3.214934</td>\n",
       "    </tr>\n",
       "    <tr>\n",
       "      <th>std</th>\n",
       "      <td>218.188441</td>\n",
       "      <td>0.790743</td>\n",
       "    </tr>\n",
       "    <tr>\n",
       "      <th>min</th>\n",
       "      <td>1.000000</td>\n",
       "      <td>0.500000</td>\n",
       "    </tr>\n",
       "    <tr>\n",
       "      <th>25%</th>\n",
       "      <td>2.000000</td>\n",
       "      <td>2.833333</td>\n",
       "    </tr>\n",
       "    <tr>\n",
       "      <th>50%</th>\n",
       "      <td>9.000000</td>\n",
       "      <td>3.363636</td>\n",
       "    </tr>\n",
       "    <tr>\n",
       "      <th>75%</th>\n",
       "      <td>43.000000</td>\n",
       "      <td>3.750000</td>\n",
       "    </tr>\n",
       "    <tr>\n",
       "      <th>max</th>\n",
       "      <td>3498.000000</td>\n",
       "      <td>5.000000</td>\n",
       "    </tr>\n",
       "  </tbody>\n",
       "</table>\n",
       "</div>"
      ],
      "text/plain": [
       "              size         mean\n",
       "count 14026.000000 14026.000000\n",
       "mean     74.759375     3.214934\n",
       "std     218.188441     0.790743\n",
       "min       1.000000     0.500000\n",
       "25%       2.000000     2.833333\n",
       "50%       9.000000     3.363636\n",
       "75%      43.000000     3.750000\n",
       "max    3498.000000     5.000000"
      ]
     },
     "execution_count": 16,
     "metadata": {},
     "output_type": "execute_result"
    }
   ],
   "source": [
    "movieRatingsAggr['rating'].describe()"
   ]
  },
  {
   "cell_type": "code",
   "execution_count": 17,
   "metadata": {
    "_uuid": "9caa4c24b79b628a02b65981f8cad6425f48452d"
   },
   "outputs": [
    {
     "data": {
      "text/plain": [
       "size       AxesSubplot(0.125,0.125;0.352273x0.755)\n",
       "mean    AxesSubplot(0.547727,0.125;0.352273x0.755)\n",
       "dtype: object"
      ]
     },
     "execution_count": 17,
     "metadata": {},
     "output_type": "execute_result"
    },
    {
     "data": {
      "image/png": "[encoded data removed]",
      "text/plain": [
       "<Figure size 432x288 with 2 Axes>"
      ]
     },
     "metadata": {
      "needs_background": "light"
     },
     "output_type": "display_data"
    }
   ],
   "source": [
    "movieRatingsAggr['rating'].plot(kind='box', subplots=True)"
   ]
  },
  {
   "cell_type": "markdown",
   "metadata": {
    "_uuid": "57b7cb4820aff013fd5f269c77c2c72ed75e6ed9"
   },
   "source": [
    "### TAGS"
   ]
  },
  {
   "cell_type": "code",
   "execution_count": 18,
   "metadata": {
    "_uuid": "00ff6acf7f111322f9a69e4d86ea91c1a9f5ca68"
   },
   "outputs": [
    {
     "name": "stdout",
     "output_type": "stream",
     "text": [
      "(465564, 4)\n"
     ]
    },
    {
     "data": {
      "text/html": [
       "<div>\n",
       "<style scoped>\n",
       "    .dataframe tbody tr th:only-of-type {\n",
       "        vertical-align: middle;\n",
       "    }\n",
       "\n",
       "    .dataframe tbody tr th {\n",
       "        vertical-align: top;\n",
       "    }\n",
       "\n",
       "    .dataframe thead th {\n",
       "        text-align: right;\n",
       "    }\n",
       "</style>\n",
       "<table border=\"1\" class=\"dataframe\">\n",
       "  <thead>\n",
       "    <tr style=\"text-align: right;\">\n",
       "      <th></th>\n",
       "      <th>userId</th>\n",
       "      <th>movieId</th>\n",
       "      <th>tag</th>\n",
       "      <th>timestamp</th>\n",
       "    </tr>\n",
       "  </thead>\n",
       "  <tbody>\n",
       "    <tr>\n",
       "      <th>0</th>\n",
       "      <td>18</td>\n",
       "      <td>4141</td>\n",
       "      <td>Mark Waters</td>\n",
       "      <td>1240597180</td>\n",
       "    </tr>\n",
       "    <tr>\n",
       "      <th>1</th>\n",
       "      <td>65</td>\n",
       "      <td>208</td>\n",
       "      <td>dark hero</td>\n",
       "      <td>1368150078</td>\n",
       "    </tr>\n",
       "    <tr>\n",
       "      <th>2</th>\n",
       "      <td>65</td>\n",
       "      <td>353</td>\n",
       "      <td>dark hero</td>\n",
       "      <td>1368150079</td>\n",
       "    </tr>\n",
       "    <tr>\n",
       "      <th>3</th>\n",
       "      <td>65</td>\n",
       "      <td>521</td>\n",
       "      <td>noir thriller</td>\n",
       "      <td>1368149983</td>\n",
       "    </tr>\n",
       "    <tr>\n",
       "      <th>4</th>\n",
       "      <td>65</td>\n",
       "      <td>592</td>\n",
       "      <td>dark hero</td>\n",
       "      <td>1368150078</td>\n",
       "    </tr>\n",
       "  </tbody>\n",
       "</table>\n",
       "</div>"
      ],
      "text/plain": [
       "   userId  movieId            tag   timestamp\n",
       "0      18     4141    Mark Waters  1240597180\n",
       "1      65      208      dark hero  1368150078\n",
       "2      65      353      dark hero  1368150079\n",
       "3      65      521  noir thriller  1368149983\n",
       "4      65      592      dark hero  1368150078"
      ]
     },
     "execution_count": 18,
     "metadata": {},
     "output_type": "execute_result"
    }
   ],
   "source": [
    "print(tags.shape)\n",
    "tags.head(5)"
   ]
  },
  {
   "cell_type": "code",
   "execution_count": 19,
   "metadata": {},
   "outputs": [
    {
     "data": {
      "text/plain": [
       "sci-fi                      3384\n",
       "based on a book             3281\n",
       "atmospheric                 2917\n",
       "comedy                      2779\n",
       "action                      2657\n",
       "                            ... \n",
       "Rebecca Pidgeon                1\n",
       "as good as Batman Begins       1\n",
       "thankfully uncorny             1\n",
       "stasi                          1\n",
       "Barsoom                        1\n",
       "Name: tag, Length: 38643, dtype: int64"
      ]
     },
     "execution_count": 19,
     "metadata": {},
     "output_type": "execute_result"
    }
   ],
   "source": [
    "tags['tag'].value_counts()"
   ]
  },
  {
   "cell_type": "code",
   "execution_count": 20,
   "metadata": {},
   "outputs": [
    {
     "data": {
      "text/html": [
       "<div>\n",
       "<style scoped>\n",
       "    .dataframe tbody tr th:only-of-type {\n",
       "        vertical-align: middle;\n",
       "    }\n",
       "\n",
       "    .dataframe tbody tr th {\n",
       "        vertical-align: top;\n",
       "    }\n",
       "\n",
       "    .dataframe thead th {\n",
       "        text-align: right;\n",
       "    }\n",
       "</style>\n",
       "<table border=\"1\" class=\"dataframe\">\n",
       "  <thead>\n",
       "    <tr style=\"text-align: right;\">\n",
       "      <th></th>\n",
       "      <th>userId</th>\n",
       "      <th>movieId</th>\n",
       "      <th>tag</th>\n",
       "      <th>timestamp</th>\n",
       "    </tr>\n",
       "  </thead>\n",
       "  <tbody>\n",
       "    <tr>\n",
       "      <th>0</th>\n",
       "      <td>18</td>\n",
       "      <td>4141</td>\n",
       "      <td>Mark Waters</td>\n",
       "      <td>1240597180</td>\n",
       "    </tr>\n",
       "    <tr>\n",
       "      <th>218100</th>\n",
       "      <td>66193</td>\n",
       "      <td>4141</td>\n",
       "      <td>naive</td>\n",
       "      <td>1294446130</td>\n",
       "    </tr>\n",
       "    <tr>\n",
       "      <th>232568</th>\n",
       "      <td>70201</td>\n",
       "      <td>4141</td>\n",
       "      <td>Mark Waters</td>\n",
       "      <td>1308333224</td>\n",
       "    </tr>\n",
       "    <tr>\n",
       "      <th>311950</th>\n",
       "      <td>89274</td>\n",
       "      <td>4141</td>\n",
       "      <td>Freddie Prinze Jr.</td>\n",
       "      <td>1375164095</td>\n",
       "    </tr>\n",
       "  </tbody>\n",
       "</table>\n",
       "</div>"
      ],
      "text/plain": [
       "        userId  movieId                 tag   timestamp\n",
       "0           18     4141         Mark Waters  1240597180\n",
       "218100   66193     4141               naive  1294446130\n",
       "232568   70201     4141         Mark Waters  1308333224\n",
       "311950   89274     4141  Freddie Prinze Jr.  1375164095"
      ]
     },
     "execution_count": 20,
     "metadata": {},
     "output_type": "execute_result"
    }
   ],
   "source": [
    "tags[tags['movieId']==4141]"
   ]
  },
  {
   "cell_type": "code",
   "execution_count": null,
   "metadata": {},
   "outputs": [],
   "source": []
  },
  {
   "cell_type": "markdown",
   "metadata": {
    "_uuid": "a61a5af8dc3b53002746215501a4e7b6bad6166d"
   },
   "source": [
    "### Movies (master data)"
   ]
  },
  {
   "cell_type": "code",
   "execution_count": 21,
   "metadata": {
    "_uuid": "88efd2d05670f06c1d767420faf863a81ee22920"
   },
   "outputs": [
    {
     "name": "stdout",
     "output_type": "stream",
     "text": [
      "(27278, 3)\n"
     ]
    },
    {
     "data": {
      "text/html": [
       "<div>\n",
       "<style scoped>\n",
       "    .dataframe tbody tr th:only-of-type {\n",
       "        vertical-align: middle;\n",
       "    }\n",
       "\n",
       "    .dataframe tbody tr th {\n",
       "        vertical-align: top;\n",
       "    }\n",
       "\n",
       "    .dataframe thead th {\n",
       "        text-align: right;\n",
       "    }\n",
       "</style>\n",
       "<table border=\"1\" class=\"dataframe\">\n",
       "  <thead>\n",
       "    <tr style=\"text-align: right;\">\n",
       "      <th></th>\n",
       "      <th>movieId</th>\n",
       "      <th>title</th>\n",
       "      <th>genres</th>\n",
       "    </tr>\n",
       "  </thead>\n",
       "  <tbody>\n",
       "    <tr>\n",
       "      <th>0</th>\n",
       "      <td>1</td>\n",
       "      <td>Toy Story (1995)</td>\n",
       "      <td>Adventure|Animation|Children|Comedy|Fantasy</td>\n",
       "    </tr>\n",
       "    <tr>\n",
       "      <th>1</th>\n",
       "      <td>2</td>\n",
       "      <td>Jumanji (1995)</td>\n",
       "      <td>Adventure|Children|Fantasy</td>\n",
       "    </tr>\n",
       "    <tr>\n",
       "      <th>2</th>\n",
       "      <td>3</td>\n",
       "      <td>Grumpier Old Men (1995)</td>\n",
       "      <td>Comedy|Romance</td>\n",
       "    </tr>\n",
       "    <tr>\n",
       "      <th>3</th>\n",
       "      <td>4</td>\n",
       "      <td>Waiting to Exhale (1995)</td>\n",
       "      <td>Comedy|Drama|Romance</td>\n",
       "    </tr>\n",
       "    <tr>\n",
       "      <th>4</th>\n",
       "      <td>5</td>\n",
       "      <td>Father of the Bride Part II (1995)</td>\n",
       "      <td>Comedy</td>\n",
       "    </tr>\n",
       "  </tbody>\n",
       "</table>\n",
       "</div>"
      ],
      "text/plain": [
       "   movieId                               title  \\\n",
       "0        1                    Toy Story (1995)   \n",
       "1        2                      Jumanji (1995)   \n",
       "2        3             Grumpier Old Men (1995)   \n",
       "3        4            Waiting to Exhale (1995)   \n",
       "4        5  Father of the Bride Part II (1995)   \n",
       "\n",
       "                                        genres  \n",
       "0  Adventure|Animation|Children|Comedy|Fantasy  \n",
       "1                   Adventure|Children|Fantasy  \n",
       "2                               Comedy|Romance  \n",
       "3                         Comedy|Drama|Romance  \n",
       "4                                       Comedy  "
      ]
     },
     "execution_count": 21,
     "metadata": {},
     "output_type": "execute_result"
    }
   ],
   "source": [
    "print(movies.shape)\n",
    "movies.head(5)"
   ]
  },
  {
   "cell_type": "markdown",
   "metadata": {
    "_uuid": "78fa26426726fb4a75735b26359085d50c13cd73"
   },
   "source": [
    "### Join movie rating data"
   ]
  },
  {
   "cell_type": "code",
   "execution_count": 22,
   "metadata": {
    "_uuid": "7e5de21d32eccf397fa8607cd7dfe08520685f02"
   },
   "outputs": [],
   "source": [
    "movies = movies.merge(movieRatingsAggr, left_on='movieId', right_on='movieId', how='left')  # ['rating']\n",
    "movies.columns = ['movieId', 'title', 'genres', 'rating_count', 'rating_avg']"
   ]
  },
  {
   "cell_type": "code",
   "execution_count": 23,
   "metadata": {
    "_uuid": "82cecbc7b9bbd4584b730376a1365c9927157e27"
   },
   "outputs": [
    {
     "data": {
      "text/html": [
       "<div>\n",
       "<style scoped>\n",
       "    .dataframe tbody tr th:only-of-type {\n",
       "        vertical-align: middle;\n",
       "    }\n",
       "\n",
       "    .dataframe tbody tr th {\n",
       "        vertical-align: top;\n",
       "    }\n",
       "\n",
       "    .dataframe thead th {\n",
       "        text-align: right;\n",
       "    }\n",
       "</style>\n",
       "<table border=\"1\" class=\"dataframe\">\n",
       "  <thead>\n",
       "    <tr style=\"text-align: right;\">\n",
       "      <th></th>\n",
       "      <th>movieId</th>\n",
       "      <th>title</th>\n",
       "      <th>genres</th>\n",
       "      <th>rating_count</th>\n",
       "      <th>rating_avg</th>\n",
       "    </tr>\n",
       "  </thead>\n",
       "  <tbody>\n",
       "    <tr>\n",
       "      <th>0</th>\n",
       "      <td>1</td>\n",
       "      <td>Toy Story (1995)</td>\n",
       "      <td>Adventure|Animation|Children|Comedy|Fantasy</td>\n",
       "      <td>2569.000000</td>\n",
       "      <td>3.959323</td>\n",
       "    </tr>\n",
       "    <tr>\n",
       "      <th>1</th>\n",
       "      <td>2</td>\n",
       "      <td>Jumanji (1995)</td>\n",
       "      <td>Adventure|Children|Fantasy</td>\n",
       "      <td>1155.000000</td>\n",
       "      <td>3.268398</td>\n",
       "    </tr>\n",
       "    <tr>\n",
       "      <th>2</th>\n",
       "      <td>3</td>\n",
       "      <td>Grumpier Old Men (1995)</td>\n",
       "      <td>Comedy|Romance</td>\n",
       "      <td>685.000000</td>\n",
       "      <td>3.186861</td>\n",
       "    </tr>\n",
       "    <tr>\n",
       "      <th>3</th>\n",
       "      <td>4</td>\n",
       "      <td>Waiting to Exhale (1995)</td>\n",
       "      <td>Comedy|Drama|Romance</td>\n",
       "      <td>138.000000</td>\n",
       "      <td>3.000000</td>\n",
       "    </tr>\n",
       "    <tr>\n",
       "      <th>4</th>\n",
       "      <td>5</td>\n",
       "      <td>Father of the Bride Part II (1995)</td>\n",
       "      <td>Comedy</td>\n",
       "      <td>657.000000</td>\n",
       "      <td>3.143836</td>\n",
       "    </tr>\n",
       "  </tbody>\n",
       "</table>\n",
       "</div>"
      ],
      "text/plain": [
       "   movieId                               title  \\\n",
       "0        1                    Toy Story (1995)   \n",
       "1        2                      Jumanji (1995)   \n",
       "2        3             Grumpier Old Men (1995)   \n",
       "3        4            Waiting to Exhale (1995)   \n",
       "4        5  Father of the Bride Part II (1995)   \n",
       "\n",
       "                                        genres  rating_count  rating_avg  \n",
       "0  Adventure|Animation|Children|Comedy|Fantasy   2569.000000    3.959323  \n",
       "1                   Adventure|Children|Fantasy   1155.000000    3.268398  \n",
       "2                               Comedy|Romance    685.000000    3.186861  \n",
       "3                         Comedy|Drama|Romance    138.000000    3.000000  \n",
       "4                                       Comedy    657.000000    3.143836  "
      ]
     },
     "execution_count": 23,
     "metadata": {},
     "output_type": "execute_result"
    }
   ],
   "source": [
    "movies.head(5)"
   ]
  },
  {
   "cell_type": "markdown",
   "metadata": {
    "_uuid": "1e442118ee946e7e4f95af47d6b001cd69d17182"
   },
   "source": [
    "### Get movie years from title"
   ]
  },
  {
   "cell_type": "code",
   "execution_count": 24,
   "metadata": {
    "_uuid": "e818b76b66438a69411042bb5a2bc46c13ec1d9d"
   },
   "outputs": [
    {
     "data": {
      "text/html": [
       "<div>\n",
       "<style scoped>\n",
       "    .dataframe tbody tr th:only-of-type {\n",
       "        vertical-align: middle;\n",
       "    }\n",
       "\n",
       "    .dataframe tbody tr th {\n",
       "        vertical-align: top;\n",
       "    }\n",
       "\n",
       "    .dataframe thead th {\n",
       "        text-align: right;\n",
       "    }\n",
       "</style>\n",
       "<table border=\"1\" class=\"dataframe\">\n",
       "  <thead>\n",
       "    <tr style=\"text-align: right;\">\n",
       "      <th></th>\n",
       "      <th>movieId</th>\n",
       "      <th>title</th>\n",
       "      <th>genres</th>\n",
       "      <th>rating_count</th>\n",
       "      <th>rating_avg</th>\n",
       "      <th>year</th>\n",
       "    </tr>\n",
       "  </thead>\n",
       "  <tbody>\n",
       "    <tr>\n",
       "      <th>0</th>\n",
       "      <td>1</td>\n",
       "      <td>Toy Story (1995)</td>\n",
       "      <td>Adventure|Animation|Children|Comedy|Fantasy</td>\n",
       "      <td>2569.000000</td>\n",
       "      <td>3.959323</td>\n",
       "      <td>1995</td>\n",
       "    </tr>\n",
       "    <tr>\n",
       "      <th>1</th>\n",
       "      <td>2</td>\n",
       "      <td>Jumanji (1995)</td>\n",
       "      <td>Adventure|Children|Fantasy</td>\n",
       "      <td>1155.000000</td>\n",
       "      <td>3.268398</td>\n",
       "      <td>1995</td>\n",
       "    </tr>\n",
       "    <tr>\n",
       "      <th>2</th>\n",
       "      <td>3</td>\n",
       "      <td>Grumpier Old Men (1995)</td>\n",
       "      <td>Comedy|Romance</td>\n",
       "      <td>685.000000</td>\n",
       "      <td>3.186861</td>\n",
       "      <td>1995</td>\n",
       "    </tr>\n",
       "    <tr>\n",
       "      <th>3</th>\n",
       "      <td>4</td>\n",
       "      <td>Waiting to Exhale (1995)</td>\n",
       "      <td>Comedy|Drama|Romance</td>\n",
       "      <td>138.000000</td>\n",
       "      <td>3.000000</td>\n",
       "      <td>1995</td>\n",
       "    </tr>\n",
       "    <tr>\n",
       "      <th>4</th>\n",
       "      <td>5</td>\n",
       "      <td>Father of the Bride Part II (1995)</td>\n",
       "      <td>Comedy</td>\n",
       "      <td>657.000000</td>\n",
       "      <td>3.143836</td>\n",
       "      <td>1995</td>\n",
       "    </tr>\n",
       "    <tr>\n",
       "      <th>5</th>\n",
       "      <td>6</td>\n",
       "      <td>Heat (1995)</td>\n",
       "      <td>Action|Crime|Thriller</td>\n",
       "      <td>1260.000000</td>\n",
       "      <td>3.836508</td>\n",
       "      <td>1995</td>\n",
       "    </tr>\n",
       "    <tr>\n",
       "      <th>6</th>\n",
       "      <td>7</td>\n",
       "      <td>Sabrina (1995)</td>\n",
       "      <td>Comedy|Romance</td>\n",
       "      <td>700.000000</td>\n",
       "      <td>3.381429</td>\n",
       "      <td>1995</td>\n",
       "    </tr>\n",
       "    <tr>\n",
       "      <th>7</th>\n",
       "      <td>8</td>\n",
       "      <td>Tom and Huck (1995)</td>\n",
       "      <td>Adventure|Children</td>\n",
       "      <td>78.000000</td>\n",
       "      <td>3.352564</td>\n",
       "      <td>1995</td>\n",
       "    </tr>\n",
       "    <tr>\n",
       "      <th>8</th>\n",
       "      <td>9</td>\n",
       "      <td>Sudden Death (1995)</td>\n",
       "      <td>Action</td>\n",
       "      <td>202.000000</td>\n",
       "      <td>3.017327</td>\n",
       "      <td>1995</td>\n",
       "    </tr>\n",
       "    <tr>\n",
       "      <th>9</th>\n",
       "      <td>10</td>\n",
       "      <td>GoldenEye (1995)</td>\n",
       "      <td>Action|Adventure|Thriller</td>\n",
       "      <td>1548.000000</td>\n",
       "      <td>3.427003</td>\n",
       "      <td>1995</td>\n",
       "    </tr>\n",
       "  </tbody>\n",
       "</table>\n",
       "</div>"
      ],
      "text/plain": [
       "   movieId                               title  \\\n",
       "0        1                    Toy Story (1995)   \n",
       "1        2                      Jumanji (1995)   \n",
       "2        3             Grumpier Old Men (1995)   \n",
       "3        4            Waiting to Exhale (1995)   \n",
       "4        5  Father of the Bride Part II (1995)   \n",
       "5        6                         Heat (1995)   \n",
       "6        7                      Sabrina (1995)   \n",
       "7        8                 Tom and Huck (1995)   \n",
       "8        9                 Sudden Death (1995)   \n",
       "9       10                    GoldenEye (1995)   \n",
       "\n",
       "                                        genres  rating_count  rating_avg  year  \n",
       "0  Adventure|Animation|Children|Comedy|Fantasy   2569.000000    3.959323  1995  \n",
       "1                   Adventure|Children|Fantasy   1155.000000    3.268398  1995  \n",
       "2                               Comedy|Romance    685.000000    3.186861  1995  \n",
       "3                         Comedy|Drama|Romance    138.000000    3.000000  1995  \n",
       "4                                       Comedy    657.000000    3.143836  1995  \n",
       "5                        Action|Crime|Thriller   1260.000000    3.836508  1995  \n",
       "6                               Comedy|Romance    700.000000    3.381429  1995  \n",
       "7                           Adventure|Children     78.000000    3.352564  1995  \n",
       "8                                       Action    202.000000    3.017327  1995  \n",
       "9                    Action|Adventure|Thriller   1548.000000    3.427003  1995  "
      ]
     },
     "execution_count": 24,
     "metadata": {},
     "output_type": "execute_result"
    }
   ],
   "source": [
    "def getYear(title):\n",
    "    result = re.search(r'\\(\\d{4}\\)', title)\n",
    "    if result:\n",
    "        found = result.group(0).strip('(').strip(')')\n",
    "    else: \n",
    "        found = 0\n",
    "    return int(found)\n",
    "    \n",
    "movies['year'] = movies.apply(lambda x: getYear(x['title']), axis=1)\n",
    "movies.head(10)"
   ]
  },
  {
   "cell_type": "code",
   "execution_count": 25,
   "metadata": {},
   "outputs": [
    {
     "data": {
      "text/plain": [
       "(27278, 6)"
      ]
     },
     "execution_count": 25,
     "metadata": {},
     "output_type": "execute_result"
    }
   ],
   "source": [
    "movies.shape"
   ]
  },
  {
   "cell_type": "markdown",
   "metadata": {
    "_uuid": "6a6ee9af519b8c94a21f4e13c3213ec671b14e69"
   },
   "source": [
    "### Create genres matrix - one hot encoding\n",
    "At this step I create a \"genresMatrix\" field where every value is a list of binary values (19 elements in every list, for the 19 possible genres).  For example a movie with genres \"Action\", \"Adventure\" and \"Children\" will look like: [1, 1, 0, 1, 0, 0, 0, 0, 0, 0, 0, 0, 0, 0, 0, 0, 0, 0, 0] . This transformation called as \"one hot encoding\".\n",
    "\n",
    "This matrix will be very useful to define the similarities between two \"genres\" sets. For this purpose I'm going to compute the Cosine distance between the given arrays. More info: [SciPy spatial.distance.cosine](https://docs.scipy.org/doc/scipy/reference/generated/scipy.spatial.distance.cosine.html)"
   ]
  },
  {
   "cell_type": "code",
   "execution_count": 26,
   "metadata": {},
   "outputs": [],
   "source": [
    "def set_genre(genres):\n",
    "    gen = genres.replace('|',' ')\n",
    "    return gen\n",
    "movies['Genre'] = movies.apply(lambda x: set_genre(x.genres), axis=1)\n",
    "movies.head()\n",
    "movies.drop('genres',axis=1,inplace=True)"
   ]
  },
  {
   "cell_type": "code",
   "execution_count": 27,
   "metadata": {
    "scrolled": true
   },
   "outputs": [
    {
     "data": {
      "text/html": [
       "<div>\n",
       "<style scoped>\n",
       "    .dataframe tbody tr th:only-of-type {\n",
       "        vertical-align: middle;\n",
       "    }\n",
       "\n",
       "    .dataframe tbody tr th {\n",
       "        vertical-align: top;\n",
       "    }\n",
       "\n",
       "    .dataframe thead th {\n",
       "        text-align: right;\n",
       "    }\n",
       "</style>\n",
       "<table border=\"1\" class=\"dataframe\">\n",
       "  <thead>\n",
       "    <tr style=\"text-align: right;\">\n",
       "      <th></th>\n",
       "      <th>movieId</th>\n",
       "      <th>title</th>\n",
       "      <th>rating_count</th>\n",
       "      <th>rating_avg</th>\n",
       "      <th>year</th>\n",
       "      <th>Genre</th>\n",
       "    </tr>\n",
       "  </thead>\n",
       "  <tbody>\n",
       "    <tr>\n",
       "      <th>0</th>\n",
       "      <td>1</td>\n",
       "      <td>Toy Story (1995)</td>\n",
       "      <td>2569.000000</td>\n",
       "      <td>3.959323</td>\n",
       "      <td>1995</td>\n",
       "      <td>Adventure Animation Children Comedy Fantasy</td>\n",
       "    </tr>\n",
       "    <tr>\n",
       "      <th>1</th>\n",
       "      <td>2</td>\n",
       "      <td>Jumanji (1995)</td>\n",
       "      <td>1155.000000</td>\n",
       "      <td>3.268398</td>\n",
       "      <td>1995</td>\n",
       "      <td>Adventure Children Fantasy</td>\n",
       "    </tr>\n",
       "  </tbody>\n",
       "</table>\n",
       "</div>"
      ],
      "text/plain": [
       "   movieId             title  rating_count  rating_avg  year  \\\n",
       "0        1  Toy Story (1995)   2569.000000    3.959323  1995   \n",
       "1        2    Jumanji (1995)   1155.000000    3.268398  1995   \n",
       "\n",
       "                                         Genre  \n",
       "0  Adventure Animation Children Comedy Fantasy  \n",
       "1                   Adventure Children Fantasy  "
      ]
     },
     "execution_count": 27,
     "metadata": {},
     "output_type": "execute_result"
    }
   ],
   "source": [
    "movies.head(2)"
   ]
  },
  {
   "cell_type": "code",
   "execution_count": 28,
   "metadata": {},
   "outputs": [
    {
     "name": "stdout",
     "output_type": "stream",
     "text": [
      "['Adventure', 'Animation', 'Children', 'Comedy', 'Fantasy', 'Romance', 'Drama', 'Action', 'Crime', 'Thriller', 'Horror', 'Mystery', 'Sci-Fi', 'IMAX', 'Documentary', 'War', 'Musical', 'Western', 'Film-Noir', '(no', 'genres', 'listed)']\n"
     ]
    }
   ],
   "source": [
    "g = []\n",
    "for i in movies.Genre:\n",
    "    w = []\n",
    "    w = i.split(' ')  \n",
    "    for j in range(len(w)):\n",
    "        if w[j] not in g: \n",
    "            g.append(w[j]) \n",
    "# g.sort()\n",
    "print(g)"
   ]
  },
  {
   "cell_type": "code",
   "execution_count": 29,
   "metadata": {},
   "outputs": [],
   "source": [
    "g_list = g[:-3]\n",
    "g_list.sort()\n",
    "g_list.append('(no genres listed)')"
   ]
  },
  {
   "cell_type": "code",
   "execution_count": 30,
   "metadata": {},
   "outputs": [
    {
     "name": "stdout",
     "output_type": "stream",
     "text": [
      "['Action', 'Adventure', 'Animation', 'Children', 'Comedy', 'Crime', 'Documentary', 'Drama', 'Fantasy', 'Film-Noir', 'Horror', 'IMAX', 'Musical', 'Mystery', 'Romance', 'Sci-Fi', 'Thriller', 'War', 'Western', '(no genres listed)']\n"
     ]
    }
   ],
   "source": [
    "print(g_list)"
   ]
  },
  {
   "cell_type": "code",
   "execution_count": 31,
   "metadata": {},
   "outputs": [
    {
     "data": {
      "text/html": [
       "<div>\n",
       "<style scoped>\n",
       "    .dataframe tbody tr th:only-of-type {\n",
       "        vertical-align: middle;\n",
       "    }\n",
       "\n",
       "    .dataframe tbody tr th {\n",
       "        vertical-align: top;\n",
       "    }\n",
       "\n",
       "    .dataframe thead th {\n",
       "        text-align: right;\n",
       "    }\n",
       "</style>\n",
       "<table border=\"1\" class=\"dataframe\">\n",
       "  <thead>\n",
       "    <tr style=\"text-align: right;\">\n",
       "      <th></th>\n",
       "      <th>movieId</th>\n",
       "      <th>title</th>\n",
       "      <th>rating_count</th>\n",
       "      <th>rating_avg</th>\n",
       "      <th>year</th>\n",
       "      <th>Genre</th>\n",
       "    </tr>\n",
       "  </thead>\n",
       "  <tbody>\n",
       "    <tr>\n",
       "      <th>0</th>\n",
       "      <td>1</td>\n",
       "      <td>Toy Story (1995)</td>\n",
       "      <td>2569.000000</td>\n",
       "      <td>3.959323</td>\n",
       "      <td>1995</td>\n",
       "      <td>Adventure Animation Children Comedy Fantasy</td>\n",
       "    </tr>\n",
       "    <tr>\n",
       "      <th>1</th>\n",
       "      <td>2</td>\n",
       "      <td>Jumanji (1995)</td>\n",
       "      <td>1155.000000</td>\n",
       "      <td>3.268398</td>\n",
       "      <td>1995</td>\n",
       "      <td>Adventure Children Fantasy</td>\n",
       "    </tr>\n",
       "  </tbody>\n",
       "</table>\n",
       "</div>"
      ],
      "text/plain": [
       "   movieId             title  rating_count  rating_avg  year  \\\n",
       "0        1  Toy Story (1995)   2569.000000    3.959323  1995   \n",
       "1        2    Jumanji (1995)   1155.000000    3.268398  1995   \n",
       "\n",
       "                                         Genre  \n",
       "0  Adventure Animation Children Comedy Fantasy  \n",
       "1                   Adventure Children Fantasy  "
      ]
     },
     "execution_count": 31,
     "metadata": {},
     "output_type": "execute_result"
    }
   ],
   "source": [
    "movies.head(2)"
   ]
  },
  {
   "cell_type": "code",
   "execution_count": 32,
   "metadata": {
    "_uuid": "9bbcc3e73f1f9105b65a34696edb7ec316c58f10"
   },
   "outputs": [
    {
     "data": {
      "text/html": [
       "<div>\n",
       "<style scoped>\n",
       "    .dataframe tbody tr th:only-of-type {\n",
       "        vertical-align: middle;\n",
       "    }\n",
       "\n",
       "    .dataframe tbody tr th {\n",
       "        vertical-align: top;\n",
       "    }\n",
       "\n",
       "    .dataframe thead th {\n",
       "        text-align: right;\n",
       "    }\n",
       "</style>\n",
       "<table border=\"1\" class=\"dataframe\">\n",
       "  <thead>\n",
       "    <tr style=\"text-align: right;\">\n",
       "      <th></th>\n",
       "      <th>movieId</th>\n",
       "      <th>title</th>\n",
       "      <th>rating_count</th>\n",
       "      <th>rating_avg</th>\n",
       "      <th>year</th>\n",
       "      <th>Genre</th>\n",
       "      <th>genresMatrix</th>\n",
       "    </tr>\n",
       "  </thead>\n",
       "  <tbody>\n",
       "    <tr>\n",
       "      <th>0</th>\n",
       "      <td>1</td>\n",
       "      <td>Toy Story (1995)</td>\n",
       "      <td>2569.000000</td>\n",
       "      <td>3.959323</td>\n",
       "      <td>1995</td>\n",
       "      <td>Adventure Animation Children Comedy Fantasy</td>\n",
       "      <td>[0, 1, 1, 1, 1, 0, 0, 0, 1, 0, 0, 0, 0, 0, 0, ...</td>\n",
       "    </tr>\n",
       "    <tr>\n",
       "      <th>1</th>\n",
       "      <td>2</td>\n",
       "      <td>Jumanji (1995)</td>\n",
       "      <td>1155.000000</td>\n",
       "      <td>3.268398</td>\n",
       "      <td>1995</td>\n",
       "      <td>Adventure Children Fantasy</td>\n",
       "      <td>[0, 1, 0, 1, 0, 0, 0, 0, 1, 0, 0, 0, 0, 0, 0, ...</td>\n",
       "    </tr>\n",
       "  </tbody>\n",
       "</table>\n",
       "</div>"
      ],
      "text/plain": [
       "   movieId             title  rating_count  rating_avg  year  \\\n",
       "0        1  Toy Story (1995)   2569.000000    3.959323  1995   \n",
       "1        2    Jumanji (1995)   1155.000000    3.268398  1995   \n",
       "\n",
       "                                         Genre  \\\n",
       "0  Adventure Animation Children Comedy Fantasy   \n",
       "1                   Adventure Children Fantasy   \n",
       "\n",
       "                                        genresMatrix  \n",
       "0  [0, 1, 1, 1, 1, 0, 0, 0, 1, 0, 0, 0, 0, 0, 0, ...  \n",
       "1  [0, 1, 0, 1, 0, 0, 0, 0, 1, 0, 0, 0, 0, 0, 0, ...  "
      ]
     },
     "execution_count": 32,
     "metadata": {},
     "output_type": "execute_result"
    }
   ],
   "source": [
    "def setGenresMatrix(genre):\n",
    "    movieGenresMatrix = []\n",
    "    movieGenresList = genre.split(' ')\n",
    "    for x in g_list:\n",
    "        if (x in movieGenresList):\n",
    "            movieGenresMatrix.append(1)\n",
    "        else:\n",
    "            movieGenresMatrix.append(0) \n",
    "    return movieGenresMatrix\n",
    "    \n",
    "movies['genresMatrix'] = movies.apply(lambda x: np.array(list(setGenresMatrix(x['Genre']))), axis=1)\n",
    "\n",
    "movies.head(2)"
   ]
  },
  {
   "cell_type": "markdown",
   "metadata": {
    "_uuid": "693a5bc8dd40e34d416343065a0f524b5a623b7b"
   },
   "source": [
    "### Set rating categories\n",
    "Based on the number of user ratings per movie, I have defined 7 rating groups."
   ]
  },
  {
   "cell_type": "markdown",
   "metadata": {
    "_uuid": "fd604b90380847893871fe5bdf9723c27ea9becb"
   },
   "source": [
    "**Check the distribution of ratings per movie**"
   ]
  },
  {
   "cell_type": "code",
   "execution_count": 33,
   "metadata": {
    "_uuid": "f5ab6f2a04724ba485ce66be61b94a7bc2852d09"
   },
   "outputs": [
    {
     "data": {
      "text/html": [
       "<div>\n",
       "<style scoped>\n",
       "    .dataframe tbody tr th:only-of-type {\n",
       "        vertical-align: middle;\n",
       "    }\n",
       "\n",
       "    .dataframe tbody tr th {\n",
       "        vertical-align: top;\n",
       "    }\n",
       "\n",
       "    .dataframe thead th {\n",
       "        text-align: right;\n",
       "    }\n",
       "</style>\n",
       "<table border=\"1\" class=\"dataframe\">\n",
       "  <thead>\n",
       "    <tr style=\"text-align: right;\">\n",
       "      <th></th>\n",
       "      <th>size</th>\n",
       "      <th>mean</th>\n",
       "    </tr>\n",
       "  </thead>\n",
       "  <tbody>\n",
       "    <tr>\n",
       "      <th>count</th>\n",
       "      <td>14026.000000</td>\n",
       "      <td>14026.000000</td>\n",
       "    </tr>\n",
       "    <tr>\n",
       "      <th>mean</th>\n",
       "      <td>74.759375</td>\n",
       "      <td>3.214934</td>\n",
       "    </tr>\n",
       "    <tr>\n",
       "      <th>std</th>\n",
       "      <td>218.188441</td>\n",
       "      <td>0.790743</td>\n",
       "    </tr>\n",
       "    <tr>\n",
       "      <th>min</th>\n",
       "      <td>1.000000</td>\n",
       "      <td>0.500000</td>\n",
       "    </tr>\n",
       "    <tr>\n",
       "      <th>10%</th>\n",
       "      <td>1.000000</td>\n",
       "      <td>2.166667</td>\n",
       "    </tr>\n",
       "    <tr>\n",
       "      <th>20%</th>\n",
       "      <td>2.000000</td>\n",
       "      <td>2.666667</td>\n",
       "    </tr>\n",
       "    <tr>\n",
       "      <th>30%</th>\n",
       "      <td>3.000000</td>\n",
       "      <td>3.000000</td>\n",
       "    </tr>\n",
       "    <tr>\n",
       "      <th>40%</th>\n",
       "      <td>5.000000</td>\n",
       "      <td>3.166667</td>\n",
       "    </tr>\n",
       "    <tr>\n",
       "      <th>50%</th>\n",
       "      <td>9.000000</td>\n",
       "      <td>3.363636</td>\n",
       "    </tr>\n",
       "    <tr>\n",
       "      <th>60%</th>\n",
       "      <td>16.000000</td>\n",
       "      <td>3.500000</td>\n",
       "    </tr>\n",
       "    <tr>\n",
       "      <th>70%</th>\n",
       "      <td>30.000000</td>\n",
       "      <td>3.666667</td>\n",
       "    </tr>\n",
       "    <tr>\n",
       "      <th>80%</th>\n",
       "      <td>64.000000</td>\n",
       "      <td>3.833333</td>\n",
       "    </tr>\n",
       "    <tr>\n",
       "      <th>90%</th>\n",
       "      <td>180.000000</td>\n",
       "      <td>4.000000</td>\n",
       "    </tr>\n",
       "    <tr>\n",
       "      <th>95%</th>\n",
       "      <td>376.750000</td>\n",
       "      <td>4.216693</td>\n",
       "    </tr>\n",
       "    <tr>\n",
       "      <th>98%</th>\n",
       "      <td>741.500000</td>\n",
       "      <td>4.500000</td>\n",
       "    </tr>\n",
       "    <tr>\n",
       "      <th>99%</th>\n",
       "      <td>1113.000000</td>\n",
       "      <td>5.000000</td>\n",
       "    </tr>\n",
       "    <tr>\n",
       "      <th>max</th>\n",
       "      <td>3498.000000</td>\n",
       "      <td>5.000000</td>\n",
       "    </tr>\n",
       "  </tbody>\n",
       "</table>\n",
       "</div>"
      ],
      "text/plain": [
       "              size         mean\n",
       "count 14026.000000 14026.000000\n",
       "mean     74.759375     3.214934\n",
       "std     218.188441     0.790743\n",
       "min       1.000000     0.500000\n",
       "10%       1.000000     2.166667\n",
       "20%       2.000000     2.666667\n",
       "30%       3.000000     3.000000\n",
       "40%       5.000000     3.166667\n",
       "50%       9.000000     3.363636\n",
       "60%      16.000000     3.500000\n",
       "70%      30.000000     3.666667\n",
       "80%      64.000000     3.833333\n",
       "90%     180.000000     4.000000\n",
       "95%     376.750000     4.216693\n",
       "98%     741.500000     4.500000\n",
       "99%    1113.000000     5.000000\n",
       "max    3498.000000     5.000000"
      ]
     },
     "execution_count": 33,
     "metadata": {},
     "output_type": "execute_result"
    }
   ],
   "source": [
    "movieRatingsAggr['rating'].describe(percentiles=[0.1, 0.2, 0.3, 0.4, 0.5, 0.6, 0.7, 0.8, 0.9, 0.95, 0.98, 0.99])"
   ]
  },
  {
   "cell_type": "markdown",
   "metadata": {
    "_uuid": "b16840654a0c5dbfc802187621687ec0247d44c5"
   },
   "source": [
    "**The desired rating number groups will be:**\n",
    "* 0 - not rated movie\n",
    "* 1 - count of ratings between 1 - 10\n",
    "* 2 - count of ratings between 11 - 30\n",
    "* 3 - count of ratings between 31 - 100\n",
    "* 4 - count of ratings between 101 - 300\n",
    "* 5 - count of ratings between 301 - 1000\n",
    "* 6 - count of ratings between 1001 - "
   ]
  },
  {
   "cell_type": "code",
   "execution_count": 34,
   "metadata": {
    "_uuid": "13678084d125abbf125d4049d57f6d8cd1712157"
   },
   "outputs": [
    {
     "data": {
      "text/html": [
       "<div>\n",
       "<style scoped>\n",
       "    .dataframe tbody tr th:only-of-type {\n",
       "        vertical-align: middle;\n",
       "    }\n",
       "\n",
       "    .dataframe tbody tr th {\n",
       "        vertical-align: top;\n",
       "    }\n",
       "\n",
       "    .dataframe thead th {\n",
       "        text-align: right;\n",
       "    }\n",
       "</style>\n",
       "<table border=\"1\" class=\"dataframe\">\n",
       "  <thead>\n",
       "    <tr style=\"text-align: right;\">\n",
       "      <th></th>\n",
       "      <th>movieId</th>\n",
       "      <th>title</th>\n",
       "      <th>rating_count</th>\n",
       "      <th>rating_avg</th>\n",
       "      <th>year</th>\n",
       "      <th>Genre</th>\n",
       "      <th>genresMatrix</th>\n",
       "      <th>ratingGroup</th>\n",
       "    </tr>\n",
       "  </thead>\n",
       "  <tbody>\n",
       "    <tr>\n",
       "      <th>0</th>\n",
       "      <td>1</td>\n",
       "      <td>Toy Story (1995)</td>\n",
       "      <td>2569.000000</td>\n",
       "      <td>3.959323</td>\n",
       "      <td>1995</td>\n",
       "      <td>Adventure Animation Children Comedy Fantasy</td>\n",
       "      <td>[0, 1, 1, 1, 1, 0, 0, 0, 1, 0, 0, 0, 0, 0, 0, ...</td>\n",
       "      <td>6</td>\n",
       "    </tr>\n",
       "    <tr>\n",
       "      <th>1</th>\n",
       "      <td>2</td>\n",
       "      <td>Jumanji (1995)</td>\n",
       "      <td>1155.000000</td>\n",
       "      <td>3.268398</td>\n",
       "      <td>1995</td>\n",
       "      <td>Adventure Children Fantasy</td>\n",
       "      <td>[0, 1, 0, 1, 0, 0, 0, 0, 1, 0, 0, 0, 0, 0, 0, ...</td>\n",
       "      <td>6</td>\n",
       "    </tr>\n",
       "    <tr>\n",
       "      <th>2</th>\n",
       "      <td>3</td>\n",
       "      <td>Grumpier Old Men (1995)</td>\n",
       "      <td>685.000000</td>\n",
       "      <td>3.186861</td>\n",
       "      <td>1995</td>\n",
       "      <td>Comedy Romance</td>\n",
       "      <td>[0, 0, 0, 0, 1, 0, 0, 0, 0, 0, 0, 0, 0, 0, 1, ...</td>\n",
       "      <td>5</td>\n",
       "    </tr>\n",
       "    <tr>\n",
       "      <th>3</th>\n",
       "      <td>4</td>\n",
       "      <td>Waiting to Exhale (1995)</td>\n",
       "      <td>138.000000</td>\n",
       "      <td>3.000000</td>\n",
       "      <td>1995</td>\n",
       "      <td>Comedy Drama Romance</td>\n",
       "      <td>[0, 0, 0, 0, 1, 0, 0, 1, 0, 0, 0, 0, 0, 0, 1, ...</td>\n",
       "      <td>4</td>\n",
       "    </tr>\n",
       "    <tr>\n",
       "      <th>4</th>\n",
       "      <td>5</td>\n",
       "      <td>Father of the Bride Part II (1995)</td>\n",
       "      <td>657.000000</td>\n",
       "      <td>3.143836</td>\n",
       "      <td>1995</td>\n",
       "      <td>Comedy</td>\n",
       "      <td>[0, 0, 0, 0, 1, 0, 0, 0, 0, 0, 0, 0, 0, 0, 0, ...</td>\n",
       "      <td>5</td>\n",
       "    </tr>\n",
       "    <tr>\n",
       "      <th>5</th>\n",
       "      <td>6</td>\n",
       "      <td>Heat (1995)</td>\n",
       "      <td>1260.000000</td>\n",
       "      <td>3.836508</td>\n",
       "      <td>1995</td>\n",
       "      <td>Action Crime Thriller</td>\n",
       "      <td>[1, 0, 0, 0, 0, 1, 0, 0, 0, 0, 0, 0, 0, 0, 0, ...</td>\n",
       "      <td>6</td>\n",
       "    </tr>\n",
       "    <tr>\n",
       "      <th>6</th>\n",
       "      <td>7</td>\n",
       "      <td>Sabrina (1995)</td>\n",
       "      <td>700.000000</td>\n",
       "      <td>3.381429</td>\n",
       "      <td>1995</td>\n",
       "      <td>Comedy Romance</td>\n",
       "      <td>[0, 0, 0, 0, 1, 0, 0, 0, 0, 0, 0, 0, 0, 0, 1, ...</td>\n",
       "      <td>5</td>\n",
       "    </tr>\n",
       "    <tr>\n",
       "      <th>7</th>\n",
       "      <td>8</td>\n",
       "      <td>Tom and Huck (1995)</td>\n",
       "      <td>78.000000</td>\n",
       "      <td>3.352564</td>\n",
       "      <td>1995</td>\n",
       "      <td>Adventure Children</td>\n",
       "      <td>[0, 1, 0, 1, 0, 0, 0, 0, 0, 0, 0, 0, 0, 0, 0, ...</td>\n",
       "      <td>3</td>\n",
       "    </tr>\n",
       "    <tr>\n",
       "      <th>8</th>\n",
       "      <td>9</td>\n",
       "      <td>Sudden Death (1995)</td>\n",
       "      <td>202.000000</td>\n",
       "      <td>3.017327</td>\n",
       "      <td>1995</td>\n",
       "      <td>Action</td>\n",
       "      <td>[1, 0, 0, 0, 0, 0, 0, 0, 0, 0, 0, 0, 0, 0, 0, ...</td>\n",
       "      <td>4</td>\n",
       "    </tr>\n",
       "    <tr>\n",
       "      <th>9</th>\n",
       "      <td>10</td>\n",
       "      <td>GoldenEye (1995)</td>\n",
       "      <td>1548.000000</td>\n",
       "      <td>3.427003</td>\n",
       "      <td>1995</td>\n",
       "      <td>Action Adventure Thriller</td>\n",
       "      <td>[1, 1, 0, 0, 0, 0, 0, 0, 0, 0, 0, 0, 0, 0, 0, ...</td>\n",
       "      <td>6</td>\n",
       "    </tr>\n",
       "  </tbody>\n",
       "</table>\n",
       "</div>"
      ],
      "text/plain": [
       "   movieId                               title  rating_count  rating_avg  \\\n",
       "0        1                    Toy Story (1995)   2569.000000    3.959323   \n",
       "1        2                      Jumanji (1995)   1155.000000    3.268398   \n",
       "2        3             Grumpier Old Men (1995)    685.000000    3.186861   \n",
       "3        4            Waiting to Exhale (1995)    138.000000    3.000000   \n",
       "4        5  Father of the Bride Part II (1995)    657.000000    3.143836   \n",
       "5        6                         Heat (1995)   1260.000000    3.836508   \n",
       "6        7                      Sabrina (1995)    700.000000    3.381429   \n",
       "7        8                 Tom and Huck (1995)     78.000000    3.352564   \n",
       "8        9                 Sudden Death (1995)    202.000000    3.017327   \n",
       "9       10                    GoldenEye (1995)   1548.000000    3.427003   \n",
       "\n",
       "   year                                        Genre  \\\n",
       "0  1995  Adventure Animation Children Comedy Fantasy   \n",
       "1  1995                   Adventure Children Fantasy   \n",
       "2  1995                               Comedy Romance   \n",
       "3  1995                         Comedy Drama Romance   \n",
       "4  1995                                       Comedy   \n",
       "5  1995                        Action Crime Thriller   \n",
       "6  1995                               Comedy Romance   \n",
       "7  1995                           Adventure Children   \n",
       "8  1995                                       Action   \n",
       "9  1995                    Action Adventure Thriller   \n",
       "\n",
       "                                        genresMatrix  ratingGroup  \n",
       "0  [0, 1, 1, 1, 1, 0, 0, 0, 1, 0, 0, 0, 0, 0, 0, ...            6  \n",
       "1  [0, 1, 0, 1, 0, 0, 0, 0, 1, 0, 0, 0, 0, 0, 0, ...            6  \n",
       "2  [0, 0, 0, 0, 1, 0, 0, 0, 0, 0, 0, 0, 0, 0, 1, ...            5  \n",
       "3  [0, 0, 0, 0, 1, 0, 0, 1, 0, 0, 0, 0, 0, 0, 1, ...            4  \n",
       "4  [0, 0, 0, 0, 1, 0, 0, 0, 0, 0, 0, 0, 0, 0, 0, ...            5  \n",
       "5  [1, 0, 0, 0, 0, 1, 0, 0, 0, 0, 0, 0, 0, 0, 0, ...            6  \n",
       "6  [0, 0, 0, 0, 1, 0, 0, 0, 0, 0, 0, 0, 0, 0, 1, ...            5  \n",
       "7  [0, 1, 0, 1, 0, 0, 0, 0, 0, 0, 0, 0, 0, 0, 0, ...            3  \n",
       "8  [1, 0, 0, 0, 0, 0, 0, 0, 0, 0, 0, 0, 0, 0, 0, ...            4  \n",
       "9  [1, 1, 0, 0, 0, 0, 0, 0, 0, 0, 0, 0, 0, 0, 0, ...            6  "
      ]
     },
     "execution_count": 34,
     "metadata": {},
     "output_type": "execute_result"
    }
   ],
   "source": [
    "def setRatingGroup(numberOfRatings):\n",
    "    # if (numberOfRatings is None): return 0\n",
    "    if (1 <= numberOfRatings <= 10): return 1\n",
    "    elif (11 <= numberOfRatings <= 30): return 2\n",
    "    elif (31 <= numberOfRatings <= 100): return 3\n",
    "    elif (101 <= numberOfRatings <= 300): return 4\n",
    "    elif (301 <= numberOfRatings <= 1000): return 5\n",
    "    elif (1001 <= numberOfRatings): return 6\n",
    "    else: return 0\n",
    "\n",
    "movies['ratingGroup'] = movies.apply(lambda x: setRatingGroup(x['rating_count']), axis=1)\n",
    "movies.fillna(0, inplace=True)  # Replace NaN values to zero\n",
    "\n",
    "movies.head(10)"
   ]
  },
  {
   "cell_type": "markdown",
   "metadata": {
    "_uuid": "2b810f1f16706cfba4ee168297a49194e747497a"
   },
   "source": [
    "### Tags \n",
    "Iterate through all the user given tags, split the tags into words, filter the defined stop words (frequent English words) and put the results into a dictionary that indexed by movieId."
   ]
  },
  {
   "cell_type": "code",
   "execution_count": 35,
   "metadata": {},
   "outputs": [
    {
     "data": {
      "text/html": [
       "<div>\n",
       "<style scoped>\n",
       "    .dataframe tbody tr th:only-of-type {\n",
       "        vertical-align: middle;\n",
       "    }\n",
       "\n",
       "    .dataframe tbody tr th {\n",
       "        vertical-align: top;\n",
       "    }\n",
       "\n",
       "    .dataframe thead th {\n",
       "        text-align: right;\n",
       "    }\n",
       "</style>\n",
       "<table border=\"1\" class=\"dataframe\">\n",
       "  <thead>\n",
       "    <tr style=\"text-align: right;\">\n",
       "      <th></th>\n",
       "      <th>userId</th>\n",
       "      <th>movieId</th>\n",
       "      <th>tag</th>\n",
       "      <th>timestamp</th>\n",
       "    </tr>\n",
       "  </thead>\n",
       "  <tbody>\n",
       "    <tr>\n",
       "      <th>0</th>\n",
       "      <td>18</td>\n",
       "      <td>4141</td>\n",
       "      <td>Mark Waters</td>\n",
       "      <td>1240597180</td>\n",
       "    </tr>\n",
       "    <tr>\n",
       "      <th>1</th>\n",
       "      <td>65</td>\n",
       "      <td>208</td>\n",
       "      <td>dark hero</td>\n",
       "      <td>1368150078</td>\n",
       "    </tr>\n",
       "  </tbody>\n",
       "</table>\n",
       "</div>"
      ],
      "text/plain": [
       "   userId  movieId          tag   timestamp\n",
       "0      18     4141  Mark Waters  1240597180\n",
       "1      65      208    dark hero  1368150078"
      ]
     },
     "execution_count": 35,
     "metadata": {},
     "output_type": "execute_result"
    }
   ],
   "source": [
    "tags.head(2)"
   ]
  },
  {
   "cell_type": "code",
   "execution_count": 36,
   "metadata": {},
   "outputs": [
    {
     "data": {
      "text/html": [
       "<div>\n",
       "<style scoped>\n",
       "    .dataframe tbody tr th:only-of-type {\n",
       "        vertical-align: middle;\n",
       "    }\n",
       "\n",
       "    .dataframe tbody tr th {\n",
       "        vertical-align: top;\n",
       "    }\n",
       "\n",
       "    .dataframe thead th {\n",
       "        text-align: right;\n",
       "    }\n",
       "</style>\n",
       "<table border=\"1\" class=\"dataframe\">\n",
       "  <thead>\n",
       "    <tr style=\"text-align: right;\">\n",
       "      <th></th>\n",
       "      <th>userId</th>\n",
       "      <th>movieId</th>\n",
       "      <th>tag</th>\n",
       "      <th>timestamp</th>\n",
       "    </tr>\n",
       "  </thead>\n",
       "  <tbody>\n",
       "    <tr>\n",
       "      <th>3676</th>\n",
       "      <td>1644</td>\n",
       "      <td>1</td>\n",
       "      <td>Watched</td>\n",
       "      <td>1417736680</td>\n",
       "    </tr>\n",
       "    <tr>\n",
       "      <th>4509</th>\n",
       "      <td>1741</td>\n",
       "      <td>1</td>\n",
       "      <td>computer animation</td>\n",
       "      <td>1183903155</td>\n",
       "    </tr>\n",
       "    <tr>\n",
       "      <th>4510</th>\n",
       "      <td>1741</td>\n",
       "      <td>1</td>\n",
       "      <td>Disney animated feature</td>\n",
       "      <td>1183933307</td>\n",
       "    </tr>\n",
       "    <tr>\n",
       "      <th>4511</th>\n",
       "      <td>1741</td>\n",
       "      <td>1</td>\n",
       "      <td>Pixar animation</td>\n",
       "      <td>1183934770</td>\n",
       "    </tr>\n",
       "    <tr>\n",
       "      <th>4512</th>\n",
       "      <td>1741</td>\n",
       "      <td>1</td>\n",
       "      <td>TÃ©a Leoni does not star in this movie</td>\n",
       "      <td>1245093573</td>\n",
       "    </tr>\n",
       "    <tr>\n",
       "      <th>...</th>\n",
       "      <td>...</td>\n",
       "      <td>...</td>\n",
       "      <td>...</td>\n",
       "      <td>...</td>\n",
       "    </tr>\n",
       "    <tr>\n",
       "      <th>456758</th>\n",
       "      <td>134419</td>\n",
       "      <td>1</td>\n",
       "      <td>toys</td>\n",
       "      <td>1147449940</td>\n",
       "    </tr>\n",
       "    <tr>\n",
       "      <th>459805</th>\n",
       "      <td>135595</td>\n",
       "      <td>1</td>\n",
       "      <td>adventure</td>\n",
       "      <td>1349629673</td>\n",
       "    </tr>\n",
       "    <tr>\n",
       "      <th>460396</th>\n",
       "      <td>136038</td>\n",
       "      <td>1</td>\n",
       "      <td>funny</td>\n",
       "      <td>1139521415</td>\n",
       "    </tr>\n",
       "    <tr>\n",
       "      <th>460788</th>\n",
       "      <td>136390</td>\n",
       "      <td>1</td>\n",
       "      <td>Tumey's To See Again</td>\n",
       "      <td>1195383359</td>\n",
       "    </tr>\n",
       "    <tr>\n",
       "      <th>460789</th>\n",
       "      <td>136390</td>\n",
       "      <td>1</td>\n",
       "      <td>Tumey's VHS</td>\n",
       "      <td>1195574115</td>\n",
       "    </tr>\n",
       "  </tbody>\n",
       "</table>\n",
       "<p>436 rows × 4 columns</p>\n",
       "</div>"
      ],
      "text/plain": [
       "        userId  movieId                                     tag   timestamp\n",
       "3676      1644        1                                 Watched  1417736680\n",
       "4509      1741        1                      computer animation  1183903155\n",
       "4510      1741        1                 Disney animated feature  1183933307\n",
       "4511      1741        1                         Pixar animation  1183934770\n",
       "4512      1741        1  TÃ©a Leoni does not star in this movie  1245093573\n",
       "...        ...      ...                                     ...         ...\n",
       "456758  134419        1                                    toys  1147449940\n",
       "459805  135595        1                               adventure  1349629673\n",
       "460396  136038        1                                   funny  1139521415\n",
       "460788  136390        1                    Tumey's To See Again  1195383359\n",
       "460789  136390        1                             Tumey's VHS  1195574115\n",
       "\n",
       "[436 rows x 4 columns]"
      ]
     },
     "execution_count": 36,
     "metadata": {},
     "output_type": "execute_result"
    }
   ],
   "source": [
    "tags[tags['movieId'] == 1]\n",
    "# tags.groupby('movieId')['tag']\n",
    "# tags.sort_values('movieId',axis=0)"
   ]
  },
  {
   "cell_type": "code",
   "execution_count": 37,
   "metadata": {},
   "outputs": [],
   "source": [
    "# import nltk\n",
    "# from nltk.corpus import stopwords"
   ]
  },
  {
   "cell_type": "code",
   "execution_count": 38,
   "metadata": {
    "_uuid": "9f95a1392700bfc7952cebe8c698053bfa803567"
   },
   "outputs": [
    {
     "data": {
      "text/plain": [
       "0            [Mark, Waters]\n",
       "1              [dark, hero]\n",
       "2              [dark, hero]\n",
       "3          [noir, thriller]\n",
       "4              [dark, hero]\n",
       "                ...        \n",
       "465559            [dragged]\n",
       "465560     [Jason, Bateman]\n",
       "465561             [quirky]\n",
       "465562                [sad]\n",
       "465563    [rise, to, power]\n",
       "Length: 465564, dtype: object"
      ]
     },
     "execution_count": 38,
     "metadata": {},
     "output_type": "execute_result"
    }
   ],
   "source": [
    "stopWords = ['a', 'about', 'above', 'above', 'across', 'after', 'afterwards', 'again', 'against', 'all', 'almost', \n",
    "        'alone', 'along', 'already', 'also','although','always','am','among', 'amongst', 'amoungst', 'amount',  'an', 'and', \n",
    "        'another', 'any','anyhow','anyone','anything','anyway', 'anywhere', 'are', 'around', 'as',  'at', 'back','be','became', \n",
    "        'because','become','becomes', 'becoming', 'been', 'before', 'beforehand', 'behind', 'being', 'below', 'beside', 'besides', \n",
    "        'between', 'beyond', 'bill', 'both', 'bottom','but', 'by', 'call', 'can', 'cannot', 'cant', 'co', 'con', 'could', 'couldnt', \n",
    "        'cry', 'de', 'describe', 'detail', 'do', 'done', 'down', 'due', 'during', 'each', 'eg', 'eight', 'either', 'eleven','else', \n",
    "        'elsewhere', 'empty', 'enough', 'etc', 'even', 'ever', 'every', 'everyone', 'everything', 'everywhere', 'except', 'few', 'fifteen', \n",
    "        'fify', 'fill', 'find', 'fire', 'first', 'five', 'for', 'former', 'formerly', 'forty', 'found', 'four', 'from', 'front', 'full', \n",
    "        'further', 'get', 'give', 'go', 'had', 'has', 'hasnt', 'have', 'he', 'hence', 'her', 'here', 'hereafter', 'hereby', 'herein', 'hereupon', \n",
    "        'hers', 'herself', 'him', 'himself', 'his', 'how', 'however', 'hundred', 'ie', 'if', 'in', 'inc', 'indeed', 'interest', 'into', 'is', 'it', \n",
    "        'its', 'itself', 'keep', 'last', 'latter', 'latterly', 'least', 'less', 'ltd', 'made', 'many', 'may', 'me', 'meanwhile', 'might', 'mill', \n",
    "        'mine', 'more', 'moreover', 'most', 'mostly', 'move', 'much', 'must', 'my', 'myself', 'name', 'namely', 'neither', 'never', 'nevertheless', \n",
    "        'next', 'nine', 'no', 'nobody', 'none', 'noone', 'nor', 'not', 'nothing', 'now', 'nowhere', 'of', 'off', 'often', 'on', 'once', 'one', \n",
    "        'only', 'onto', 'or', 'other', 'others', 'otherwise', 'our', 'ours', 'ourselves', 'out', 'over', 'own','part', 'per', 'perhaps', 'please', \n",
    "        'put', 'rather', 're', 'same', 'see', 'seem', 'seemed', 'seeming', 'seems', 'serious', 'several', 'she', 'should', 'show', 'side', 'since', \n",
    "        'sincere', 'six', 'sixty', 'so', 'some', 'somehow', 'someone', 'something', 'sometime', 'sometimes', 'somewhere', 'still', 'such', 'system', \n",
    "        'take', 'ten', 'than', 'that', 'the', 'their', 'them', 'themselves', 'then', 'thence', 'there', 'thereafter', 'thereby', 'therefore', 'therein', \n",
    "        'thereupon', 'these', 'they', 'thickv', 'thin', 'third', 'this', 'those', 'though', 'three', 'through', 'throughout', 'thru', 'thus', 'to', \n",
    "        'together', 'too', 'top', 'toward', 'towards', 'twelve', 'twenty', 'two', 'un', 'under', 'until', 'up', 'upon', 'us', 'very', 'via', 'was', \n",
    "        'we', 'well', 'were', 'what', 'whatever', 'when', 'whence', 'whenever', 'where', 'whereafter', 'whereas', 'whereby', 'wherein', 'whereupon', \n",
    "        'wherever', 'whether', 'which', 'while', 'whither', 'who', 'whoever', 'whole', 'whom', 'whose', 'why', 'will', 'with', 'within', 'without', 'would', \n",
    "        'yet', 'you', 'your', 'yours', 'yourself', 'yourselves', 'the']\n",
    "\n",
    "tagsDict = {}\n",
    "\n",
    "for index, x in tags.iterrows():\n",
    "    wordlist = str(x['tag']).lower().split(' ')\n",
    "    movieId = x['movieId']\n",
    "    for y in wordlist:\n",
    "        if y not in stopWords:\n",
    "            if movieId in tagsDict:\n",
    "                # if y not in tagsDict[movieId]:  # Switched off (we will get a non unique list)\n",
    "                    tagsDict[movieId].append(y)\n",
    "            else:\n",
    "                tagsDict[movieId] = [y]\n",
    "\n",
    "tags.apply(lambda x: str(x['tag']).split(' '), axis=1)"
   ]
  },
  {
   "cell_type": "code",
   "execution_count": 39,
   "metadata": {},
   "outputs": [
    {
     "data": {
      "text/plain": [
       "391"
      ]
     },
     "execution_count": 39,
     "metadata": {},
     "output_type": "execute_result"
    }
   ],
   "source": [
    "len(tagsDict[6])"
   ]
  },
  {
   "cell_type": "code",
   "execution_count": 40,
   "metadata": {},
   "outputs": [
    {
     "data": {
      "text/plain": [
       "548"
      ]
     },
     "execution_count": 40,
     "metadata": {},
     "output_type": "execute_result"
    }
   ],
   "source": [
    " len(tagsDict[1])"
   ]
  },
  {
   "cell_type": "markdown",
   "metadata": {
    "_uuid": "f53191dead7839f0974bf641c246b69b2047be5b"
   },
   "source": [
    "### Words in movie title\n",
    "The same as the previous \"tags\" processing, but for the words in movie title."
   ]
  },
  {
   "cell_type": "code",
   "execution_count": 41,
   "metadata": {
    "_uuid": "5e96a5eb673f9e850ca632a2f3642cfa0fcb92f1"
   },
   "outputs": [],
   "source": [
    "titleWordsDict = {}\n",
    "\n",
    "for index, x in movies.iterrows():\n",
    "    wordlist = str(x['title']).lower().split(' ')\n",
    "    movieId = x['movieId']\n",
    "    for y in wordlist:\n",
    "        if y not in stopWords:\n",
    "            if movieId in titleWordsDict:\n",
    "                    titleWordsDict[movieId].append(y)\n",
    "            else:\n",
    "                titleWordsDict[movieId] = [y]"
   ]
  },
  {
   "cell_type": "code",
   "execution_count": 42,
   "metadata": {},
   "outputs": [],
   "source": [
    "# titleWordsDict"
   ]
  },
  {
   "cell_type": "markdown",
   "metadata": {
    "_uuid": "1d18b2b71ad2f503f3cbfd0ba22c03ffa55ccab6"
   },
   "source": [
    "# Movie recommendation algorithm\n",
    "\n",
    "The algorithm gets a \"movieId\" as input parameter and computes the similarity for every other movie in the dataset. To fine-tuning this process, we can set up weights for the 6 defined similarity attributes at the beginning of the code. At the end we just ordering the result set (the most similar movies will be at the beginning). "
   ]
  },
  {
   "cell_type": "code",
   "execution_count": 43,
   "metadata": {
    "_uuid": "293eefac90c0b6625a5a8ca0fb2aaca330a0da23"
   },
   "outputs": [],
   "source": [
    "# Parameter weights\n",
    "genresSimilarityWeight = 0.8\n",
    "tagsSimilarityWeight = 2\n",
    "titleSimilarityWeight = 1\n",
    "ratingAvgWeight = 0.2\n",
    "ratingGroupWeight = 0.005\n",
    "yearDistanceWeight = 0.1\n",
    "\n",
    "def tagsSimilarity(basisMovieID, checkedMovieID, checkType):    \n",
    "    # The higher value is the more similar (from 0 to 1) \n",
    "    if checkType == 'tag':\n",
    "        dictToCheck = tagsDict\n",
    "    else:\n",
    "        dictToCheck = titleWordsDict\n",
    "        \n",
    "    counter = 0\n",
    "    if basisMovieID in dictToCheck: \n",
    "        basisTags = dictToCheck[basisMovieID]\n",
    "        countAllTags = len(basisTags)\n",
    "        basisTagsDict = {}\n",
    "        for x in basisTags:\n",
    "            if x in basisTagsDict:\n",
    "                basisTagsDict[x] += 1\n",
    "            else:\n",
    "                basisTagsDict[x] = 1   \n",
    "        \n",
    "        for x in basisTagsDict:\n",
    "            basisTagsDict[x] = basisTagsDict[x] / countAllTags\n",
    "    else: return 0\n",
    "    \n",
    "    if checkedMovieID in dictToCheck: \n",
    "        checkedTags = dictToCheck[checkedMovieID]\n",
    "        checkedTags = set(checkedTags) # Make the list unique\n",
    "        checkedTags = list(checkedTags)\n",
    "        \n",
    "    else: return 0\n",
    "    \n",
    "    for x in basisTagsDict:\n",
    "        if x in checkedTags: counter += basisTagsDict[x]\n",
    "    return counter\n",
    "    \n",
    "def checkSimilarity(movieId):\n",
    "    # print(\"SIMILAR MOVIES TO:\")\n",
    "    # print (movies[movies['movieId'] == movieId][['title', 'rating_count', 'rating_avg']])\n",
    "    basisGenres = np.array(list(movies[movies['movieId'] == movieId]['genresMatrix']))\n",
    "    basisYear = int(movies[movies['movieId'] == movieId]['year'])\n",
    "    basisRatingAvg = movies[movies['movieId'] == movieId]['rating_avg']\n",
    "    basisRatingGroup = movies[movies['movieId'] == movieId]['ratingGroup']\n",
    "    \n",
    "    moviesWithSim = movies\n",
    "    moviesWithSim['similarity'] = moviesWithSim.apply(lambda x: \n",
    "                                                      spatial.distance.cosine(x['genresMatrix'], basisGenres) * genresSimilarityWeight + \n",
    "                                                      - tagsSimilarity(movieId, x['movieId'], 'tag') * tagsSimilarityWeight +\n",
    "                                                      - tagsSimilarity(movieId, x['movieId'], 'title') * titleSimilarityWeight +\n",
    "                                                      abs(basisRatingAvg - x['rating_avg']) * ratingAvgWeight +\n",
    "                                                      abs(basisRatingGroup - x['ratingGroup']) * ratingGroupWeight + \n",
    "                                                      abs(basisYear - x['year'])/100 * yearDistanceWeight\n",
    "                                                     , axis=1)\n",
    "    \n",
    "    moviesWithSim = moviesWithSim.loc[(moviesWithSim.movieId != movieId)]\n",
    "    return moviesWithSim[['movieId', 'title', 'Genre', 'rating_count', 'rating_avg', 'similarity']].sort_values('similarity')\n"
   ]
  },
  {
   "cell_type": "code",
   "execution_count": 44,
   "metadata": {
    "_uuid": "230bb8915fa2e39ed5bb0cdcc14b508d40b738f2"
   },
   "outputs": [
    {
     "data": {
      "text/html": [
       "<div>\n",
       "<style scoped>\n",
       "    .dataframe tbody tr th:only-of-type {\n",
       "        vertical-align: middle;\n",
       "    }\n",
       "\n",
       "    .dataframe tbody tr th {\n",
       "        vertical-align: top;\n",
       "    }\n",
       "\n",
       "    .dataframe thead th {\n",
       "        text-align: right;\n",
       "    }\n",
       "</style>\n",
       "<table border=\"1\" class=\"dataframe\">\n",
       "  <thead>\n",
       "    <tr style=\"text-align: right;\">\n",
       "      <th></th>\n",
       "      <th>movieId</th>\n",
       "      <th>title</th>\n",
       "      <th>rating_count</th>\n",
       "      <th>rating_avg</th>\n",
       "      <th>year</th>\n",
       "      <th>Genre</th>\n",
       "      <th>genresMatrix</th>\n",
       "      <th>ratingGroup</th>\n",
       "    </tr>\n",
       "  </thead>\n",
       "  <tbody>\n",
       "    <tr>\n",
       "      <th>3702</th>\n",
       "      <td>3793</td>\n",
       "      <td>X-Men (2000)</td>\n",
       "      <td>1422.000000</td>\n",
       "      <td>3.602672</td>\n",
       "      <td>2000</td>\n",
       "      <td>Action Adventure Sci-Fi</td>\n",
       "      <td>[1, 1, 0, 0, 0, 0, 0, 0, 0, 0, 0, 0, 0, 0, 0, ...</td>\n",
       "      <td>6</td>\n",
       "    </tr>\n",
       "  </tbody>\n",
       "</table>\n",
       "</div>"
      ],
      "text/plain": [
       "      movieId         title  rating_count  rating_avg  year  \\\n",
       "3702     3793  X-Men (2000)   1422.000000    3.602672  2000   \n",
       "\n",
       "                        Genre  \\\n",
       "3702  Action Adventure Sci-Fi   \n",
       "\n",
       "                                           genresMatrix  ratingGroup  \n",
       "3702  [1, 1, 0, 0, 0, 0, 0, 0, 0, 0, 0, 0, 0, 0, 0, ...            6  "
      ]
     },
     "execution_count": 44,
     "metadata": {},
     "output_type": "execute_result"
    }
   ],
   "source": [
    "currentMovie = movies.loc[(movies.movieId == 3793)]\n",
    "currentMovie.head(1)"
   ]
  },
  {
   "cell_type": "markdown",
   "metadata": {
    "_uuid": "50e57bebe5a38028ada4649b7af81cd9f114f5ac"
   },
   "source": [
    "# Movie recommendations"
   ]
  },
  {
   "cell_type": "code",
   "execution_count": 45,
   "metadata": {
    "_uuid": "03c01c7977b4f1d709a1c4747c00c4c2ea8e7e24"
   },
   "outputs": [
    {
     "data": {
      "text/html": [
       "<div>\n",
       "<style scoped>\n",
       "    .dataframe tbody tr th:only-of-type {\n",
       "        vertical-align: middle;\n",
       "    }\n",
       "\n",
       "    .dataframe tbody tr th {\n",
       "        vertical-align: top;\n",
       "    }\n",
       "\n",
       "    .dataframe thead th {\n",
       "        text-align: right;\n",
       "    }\n",
       "</style>\n",
       "<table border=\"1\" class=\"dataframe\">\n",
       "  <thead>\n",
       "    <tr style=\"text-align: right;\">\n",
       "      <th></th>\n",
       "      <th>movieId</th>\n",
       "      <th>title</th>\n",
       "      <th>Genre</th>\n",
       "      <th>rating_count</th>\n",
       "      <th>rating_avg</th>\n",
       "      <th>similarity</th>\n",
       "    </tr>\n",
       "  </thead>\n",
       "  <tbody>\n",
       "    <tr>\n",
       "      <th>6234</th>\n",
       "      <td>6333</td>\n",
       "      <td>X2: X-Men United (2003)</td>\n",
       "      <td>Action Adventure Sci-Fi Thriller</td>\n",
       "      <td>847.000000</td>\n",
       "      <td>3.656434</td>\n",
       "      <td>-2.013412</td>\n",
       "    </tr>\n",
       "    <tr>\n",
       "      <th>13677</th>\n",
       "      <td>68319</td>\n",
       "      <td>X-Men Origins: Wolverine (2009)</td>\n",
       "      <td>Action Sci-Fi Thriller</td>\n",
       "      <td>141.000000</td>\n",
       "      <td>3.241135</td>\n",
       "      <td>-1.153735</td>\n",
       "    </tr>\n",
       "    <tr>\n",
       "      <th>11020</th>\n",
       "      <td>45499</td>\n",
       "      <td>X-Men: The Last Stand (2006)</td>\n",
       "      <td>Action Sci-Fi Thriller</td>\n",
       "      <td>305.000000</td>\n",
       "      <td>3.355738</td>\n",
       "      <td>-1.054679</td>\n",
       "    </tr>\n",
       "    <tr>\n",
       "      <th>5252</th>\n",
       "      <td>5349</td>\n",
       "      <td>Spider-Man (2002)</td>\n",
       "      <td>Action Adventure Sci-Fi Thriller</td>\n",
       "      <td>1256.000000</td>\n",
       "      <td>3.547771</td>\n",
       "      <td>-1.041433</td>\n",
       "    </tr>\n",
       "    <tr>\n",
       "      <th>7953</th>\n",
       "      <td>8636</td>\n",
       "      <td>Spider-Man 2 (2004)</td>\n",
       "      <td>Action Adventure Sci-Fi IMAX</td>\n",
       "      <td>858.000000</td>\n",
       "      <td>3.552448</td>\n",
       "      <td>-1.040052</td>\n",
       "    </tr>\n",
       "  </tbody>\n",
       "</table>\n",
       "</div>"
      ],
      "text/plain": [
       "       movieId                            title  \\\n",
       "6234      6333          X2: X-Men United (2003)   \n",
       "13677    68319  X-Men Origins: Wolverine (2009)   \n",
       "11020    45499     X-Men: The Last Stand (2006)   \n",
       "5252      5349                Spider-Man (2002)   \n",
       "7953      8636              Spider-Man 2 (2004)   \n",
       "\n",
       "                                  Genre  rating_count  rating_avg  similarity  \n",
       "6234   Action Adventure Sci-Fi Thriller    847.000000    3.656434   -2.013412  \n",
       "13677            Action Sci-Fi Thriller    141.000000    3.241135   -1.153735  \n",
       "11020            Action Sci-Fi Thriller    305.000000    3.355738   -1.054679  \n",
       "5252   Action Adventure Sci-Fi Thriller   1256.000000    3.547771   -1.041433  \n",
       "7953       Action Adventure Sci-Fi IMAX    858.000000    3.552448   -1.040052  "
      ]
     },
     "execution_count": 45,
     "metadata": {},
     "output_type": "execute_result"
    }
   ],
   "source": [
    "# X-men\n",
    "similarityResult  = checkSimilarity(3793)\n",
    "similarityResult.head(5)"
   ]
  },
  {
   "cell_type": "code",
   "execution_count": 46,
   "metadata": {
    "_uuid": "92bb2966cfa0fc42f8ba66caaa8f2c394a39ad6e"
   },
   "outputs": [
    {
     "data": {
      "text/html": [
       "<div>\n",
       "<style scoped>\n",
       "    .dataframe tbody tr th:only-of-type {\n",
       "        vertical-align: middle;\n",
       "    }\n",
       "\n",
       "    .dataframe tbody tr th {\n",
       "        vertical-align: top;\n",
       "    }\n",
       "\n",
       "    .dataframe thead th {\n",
       "        text-align: right;\n",
       "    }\n",
       "</style>\n",
       "<table border=\"1\" class=\"dataframe\">\n",
       "  <thead>\n",
       "    <tr style=\"text-align: right;\">\n",
       "      <th></th>\n",
       "      <th>movieId</th>\n",
       "      <th>title</th>\n",
       "      <th>Genre</th>\n",
       "      <th>rating_count</th>\n",
       "      <th>rating_avg</th>\n",
       "      <th>similarity</th>\n",
       "    </tr>\n",
       "  </thead>\n",
       "  <tbody>\n",
       "    <tr>\n",
       "      <th>3917</th>\n",
       "      <td>4011</td>\n",
       "      <td>Snatch (2000)</td>\n",
       "      <td>Comedy Crime Thriller</td>\n",
       "      <td>899.000000</td>\n",
       "      <td>4.064516</td>\n",
       "      <td>-1.501847</td>\n",
       "    </tr>\n",
       "    <tr>\n",
       "      <th>293</th>\n",
       "      <td>296</td>\n",
       "      <td>Pulp Fiction (1994)</td>\n",
       "      <td>Comedy Crime Drama Thriller</td>\n",
       "      <td>3498.000000</td>\n",
       "      <td>4.153516</td>\n",
       "      <td>-1.060707</td>\n",
       "    </tr>\n",
       "    <tr>\n",
       "      <th>1672</th>\n",
       "      <td>1732</td>\n",
       "      <td>Big Lebowski, The (1998)</td>\n",
       "      <td>Comedy Crime</td>\n",
       "      <td>1102.000000</td>\n",
       "      <td>3.941470</td>\n",
       "      <td>-0.826102</td>\n",
       "    </tr>\n",
       "    <tr>\n",
       "      <th>1067</th>\n",
       "      <td>1089</td>\n",
       "      <td>Reservoir Dogs (1992)</td>\n",
       "      <td>Crime Mystery Thriller</td>\n",
       "      <td>1414.000000</td>\n",
       "      <td>4.062942</td>\n",
       "      <td>-0.726495</td>\n",
       "    </tr>\n",
       "    <tr>\n",
       "      <th>12412</th>\n",
       "      <td>57669</td>\n",
       "      <td>In Bruges (2008)</td>\n",
       "      <td>Comedy Crime Drama Thriller</td>\n",
       "      <td>242.000000</td>\n",
       "      <td>3.894628</td>\n",
       "      <td>-0.717858</td>\n",
       "    </tr>\n",
       "  </tbody>\n",
       "</table>\n",
       "</div>"
      ],
      "text/plain": [
       "       movieId                     title                        Genre  \\\n",
       "3917      4011             Snatch (2000)        Comedy Crime Thriller   \n",
       "293        296       Pulp Fiction (1994)  Comedy Crime Drama Thriller   \n",
       "1672      1732  Big Lebowski, The (1998)                 Comedy Crime   \n",
       "1067      1089     Reservoir Dogs (1992)       Crime Mystery Thriller   \n",
       "12412    57669          In Bruges (2008)  Comedy Crime Drama Thriller   \n",
       "\n",
       "       rating_count  rating_avg  similarity  \n",
       "3917     899.000000    4.064516   -1.501847  \n",
       "293     3498.000000    4.153516   -1.060707  \n",
       "1672    1102.000000    3.941470   -0.826102  \n",
       "1067    1414.000000    4.062942   -0.726495  \n",
       "12412    242.000000    3.894628   -0.717858  "
      ]
     },
     "execution_count": 46,
     "metadata": {},
     "output_type": "execute_result"
    }
   ],
   "source": [
    "# Lock, Stock & Two Smoking Barrels\n",
    "similarityResult  = checkSimilarity(2542)\n",
    "similarityResult.head(5)"
   ]
  },
  {
   "cell_type": "code",
   "execution_count": 47,
   "metadata": {
    "_uuid": "eb2eb76235fcab9af53bee965c06e92d6ce8e37a"
   },
   "outputs": [
    {
     "data": {
      "text/html": [
       "<div>\n",
       "<style scoped>\n",
       "    .dataframe tbody tr th:only-of-type {\n",
       "        vertical-align: middle;\n",
       "    }\n",
       "\n",
       "    .dataframe tbody tr th {\n",
       "        vertical-align: top;\n",
       "    }\n",
       "\n",
       "    .dataframe thead th {\n",
       "        text-align: right;\n",
       "    }\n",
       "</style>\n",
       "<table border=\"1\" class=\"dataframe\">\n",
       "  <thead>\n",
       "    <tr style=\"text-align: right;\">\n",
       "      <th></th>\n",
       "      <th>movieId</th>\n",
       "      <th>title</th>\n",
       "      <th>Genre</th>\n",
       "      <th>rating_count</th>\n",
       "      <th>rating_avg</th>\n",
       "      <th>similarity</th>\n",
       "    </tr>\n",
       "  </thead>\n",
       "  <tbody>\n",
       "    <tr>\n",
       "      <th>1187</th>\n",
       "      <td>1213</td>\n",
       "      <td>Goodfellas (1990)</td>\n",
       "      <td>Crime Drama</td>\n",
       "      <td>1373.000000</td>\n",
       "      <td>4.192280</td>\n",
       "      <td>-1.284371</td>\n",
       "    </tr>\n",
       "    <tr>\n",
       "      <th>843</th>\n",
       "      <td>858</td>\n",
       "      <td>Godfather, The (1972)</td>\n",
       "      <td>Crime Drama</td>\n",
       "      <td>2137.000000</td>\n",
       "      <td>4.388161</td>\n",
       "      <td>-0.754592</td>\n",
       "    </tr>\n",
       "    <tr>\n",
       "      <th>11362</th>\n",
       "      <td>48516</td>\n",
       "      <td>Departed, The (2006)</td>\n",
       "      <td>Crime Drama Thriller</td>\n",
       "      <td>712.000000</td>\n",
       "      <td>4.068820</td>\n",
       "      <td>-0.729753</td>\n",
       "    </tr>\n",
       "    <tr>\n",
       "      <th>7633</th>\n",
       "      <td>8042</td>\n",
       "      <td>Mean Streets (1973)</td>\n",
       "      <td>Crime Drama</td>\n",
       "      <td>75.000000</td>\n",
       "      <td>3.793333</td>\n",
       "      <td>-0.723977</td>\n",
       "    </tr>\n",
       "    <tr>\n",
       "      <th>1202</th>\n",
       "      <td>1228</td>\n",
       "      <td>Raging Bull (1980)</td>\n",
       "      <td>Drama</td>\n",
       "      <td>491.000000</td>\n",
       "      <td>4.022403</td>\n",
       "      <td>-0.722867</td>\n",
       "    </tr>\n",
       "  </tbody>\n",
       "</table>\n",
       "</div>"
      ],
      "text/plain": [
       "       movieId                  title                 Genre  rating_count  \\\n",
       "1187      1213      Goodfellas (1990)           Crime Drama   1373.000000   \n",
       "843        858  Godfather, The (1972)           Crime Drama   2137.000000   \n",
       "11362    48516   Departed, The (2006)  Crime Drama Thriller    712.000000   \n",
       "7633      8042    Mean Streets (1973)           Crime Drama     75.000000   \n",
       "1202      1228     Raging Bull (1980)                 Drama    491.000000   \n",
       "\n",
       "       rating_avg  similarity  \n",
       "1187     4.192280   -1.284371  \n",
       "843      4.388161   -0.754592  \n",
       "11362    4.068820   -0.729753  \n",
       "7633     3.793333   -0.723977  \n",
       "1202     4.022403   -0.722867  "
      ]
     },
     "execution_count": 47,
     "metadata": {},
     "output_type": "execute_result"
    }
   ],
   "source": [
    "# Casino\n",
    "similarityResult  = checkSimilarity(16)\n",
    "similarityResult.head(5)"
   ]
  },
  {
   "cell_type": "code",
   "execution_count": 48,
   "metadata": {
    "_uuid": "276531012540b2777d2302667344fd0e8ec3ec32"
   },
   "outputs": [
    {
     "data": {
      "text/html": [
       "<div>\n",
       "<style scoped>\n",
       "    .dataframe tbody tr th:only-of-type {\n",
       "        vertical-align: middle;\n",
       "    }\n",
       "\n",
       "    .dataframe tbody tr th {\n",
       "        vertical-align: top;\n",
       "    }\n",
       "\n",
       "    .dataframe thead th {\n",
       "        text-align: right;\n",
       "    }\n",
       "</style>\n",
       "<table border=\"1\" class=\"dataframe\">\n",
       "  <thead>\n",
       "    <tr style=\"text-align: right;\">\n",
       "      <th></th>\n",
       "      <th>movieId</th>\n",
       "      <th>title</th>\n",
       "      <th>Genre</th>\n",
       "      <th>rating_count</th>\n",
       "      <th>rating_avg</th>\n",
       "      <th>similarity</th>\n",
       "    </tr>\n",
       "  </thead>\n",
       "  <tbody>\n",
       "    <tr>\n",
       "      <th>1171</th>\n",
       "      <td>1196</td>\n",
       "      <td>Star Wars: Episode V - The Empire Strikes Back...</td>\n",
       "      <td>Action Adventure Sci-Fi</td>\n",
       "      <td>2418.000000</td>\n",
       "      <td>4.163358</td>\n",
       "      <td>-2.018229</td>\n",
       "    </tr>\n",
       "    <tr>\n",
       "      <th>1184</th>\n",
       "      <td>1210</td>\n",
       "      <td>Star Wars: Episode VI - Return of the Jedi (1983)</td>\n",
       "      <td>Action Adventure Sci-Fi</td>\n",
       "      <td>2480.000000</td>\n",
       "      <td>3.992339</td>\n",
       "      <td>-2.002855</td>\n",
       "    </tr>\n",
       "    <tr>\n",
       "      <th>10117</th>\n",
       "      <td>33493</td>\n",
       "      <td>Star Wars: Episode III - Revenge of the Sith (...</td>\n",
       "      <td>Action Adventure Sci-Fi</td>\n",
       "      <td>652.000000</td>\n",
       "      <td>3.464724</td>\n",
       "      <td>-1.316176</td>\n",
       "    </tr>\n",
       "    <tr>\n",
       "      <th>2543</th>\n",
       "      <td>2628</td>\n",
       "      <td>Star Wars: Episode I - The Phantom Menace (1999)</td>\n",
       "      <td>Action Adventure Sci-Fi</td>\n",
       "      <td>1583.000000</td>\n",
       "      <td>3.083702</td>\n",
       "      <td>-1.272802</td>\n",
       "    </tr>\n",
       "    <tr>\n",
       "      <th>5281</th>\n",
       "      <td>5378</td>\n",
       "      <td>Star Wars: Episode II - Attack of the Clones (...</td>\n",
       "      <td>Action Adventure Sci-Fi IMAX</td>\n",
       "      <td>892.000000</td>\n",
       "      <td>3.117713</td>\n",
       "      <td>-1.149311</td>\n",
       "    </tr>\n",
       "  </tbody>\n",
       "</table>\n",
       "</div>"
      ],
      "text/plain": [
       "       movieId                                              title  \\\n",
       "1171      1196  Star Wars: Episode V - The Empire Strikes Back...   \n",
       "1184      1210  Star Wars: Episode VI - Return of the Jedi (1983)   \n",
       "10117    33493  Star Wars: Episode III - Revenge of the Sith (...   \n",
       "2543      2628   Star Wars: Episode I - The Phantom Menace (1999)   \n",
       "5281      5378  Star Wars: Episode II - Attack of the Clones (...   \n",
       "\n",
       "                              Genre  rating_count  rating_avg  similarity  \n",
       "1171        Action Adventure Sci-Fi   2418.000000    4.163358   -2.018229  \n",
       "1184        Action Adventure Sci-Fi   2480.000000    3.992339   -2.002855  \n",
       "10117       Action Adventure Sci-Fi    652.000000    3.464724   -1.316176  \n",
       "2543        Action Adventure Sci-Fi   1583.000000    3.083702   -1.272802  \n",
       "5281   Action Adventure Sci-Fi IMAX    892.000000    3.117713   -1.149311  "
      ]
     },
     "execution_count": 48,
     "metadata": {},
     "output_type": "execute_result"
    }
   ],
   "source": [
    "# Star Wars: Episode IV - A New Hope\n",
    "similarityResult  = checkSimilarity(260)\n",
    "similarityResult.head(5)"
   ]
  },
  {
   "cell_type": "code",
   "execution_count": 49,
   "metadata": {
    "_uuid": "e4b53bb9ff536a31195b926b587e31a4c962f2ce"
   },
   "outputs": [
    {
     "data": {
      "text/html": [
       "<div>\n",
       "<style scoped>\n",
       "    .dataframe tbody tr th:only-of-type {\n",
       "        vertical-align: middle;\n",
       "    }\n",
       "\n",
       "    .dataframe tbody tr th {\n",
       "        vertical-align: top;\n",
       "    }\n",
       "\n",
       "    .dataframe thead th {\n",
       "        text-align: right;\n",
       "    }\n",
       "</style>\n",
       "<table border=\"1\" class=\"dataframe\">\n",
       "  <thead>\n",
       "    <tr style=\"text-align: right;\">\n",
       "      <th></th>\n",
       "      <th>movieId</th>\n",
       "      <th>title</th>\n",
       "      <th>Genre</th>\n",
       "      <th>rating_count</th>\n",
       "      <th>rating_avg</th>\n",
       "      <th>similarity</th>\n",
       "    </tr>\n",
       "  </thead>\n",
       "  <tbody>\n",
       "    <tr>\n",
       "      <th>15203</th>\n",
       "      <td>77561</td>\n",
       "      <td>Iron Man 2 (2010)</td>\n",
       "      <td>Action Adventure Sci-Fi Thriller IMAX</td>\n",
       "      <td>224.000000</td>\n",
       "      <td>3.582589</td>\n",
       "      <td>-1.617761</td>\n",
       "    </tr>\n",
       "    <tr>\n",
       "      <th>20906</th>\n",
       "      <td>102125</td>\n",
       "      <td>Iron Man 3 (2013)</td>\n",
       "      <td>Action Sci-Fi Thriller IMAX</td>\n",
       "      <td>91.000000</td>\n",
       "      <td>3.675824</td>\n",
       "      <td>-1.450233</td>\n",
       "    </tr>\n",
       "    <tr>\n",
       "      <th>17874</th>\n",
       "      <td>89745</td>\n",
       "      <td>Avengers, The (2012)</td>\n",
       "      <td>Action Adventure Sci-Fi IMAX</td>\n",
       "      <td>249.000000</td>\n",
       "      <td>3.947791</td>\n",
       "      <td>-1.118568</td>\n",
       "    </tr>\n",
       "    <tr>\n",
       "      <th>12742</th>\n",
       "      <td>60040</td>\n",
       "      <td>Incredible Hulk, The (2008)</td>\n",
       "      <td>Action Sci-Fi</td>\n",
       "      <td>131.000000</td>\n",
       "      <td>3.339695</td>\n",
       "      <td>-1.076318</td>\n",
       "    </tr>\n",
       "    <tr>\n",
       "      <th>12409</th>\n",
       "      <td>57640</td>\n",
       "      <td>Hellboy II: The Golden Army (2008)</td>\n",
       "      <td>Action Adventure Fantasy Sci-Fi</td>\n",
       "      <td>116.000000</td>\n",
       "      <td>3.366379</td>\n",
       "      <td>-0.620550</td>\n",
       "    </tr>\n",
       "  </tbody>\n",
       "</table>\n",
       "</div>"
      ],
      "text/plain": [
       "       movieId                               title  \\\n",
       "15203    77561                   Iron Man 2 (2010)   \n",
       "20906   102125                   Iron Man 3 (2013)   \n",
       "17874    89745                Avengers, The (2012)   \n",
       "12742    60040         Incredible Hulk, The (2008)   \n",
       "12409    57640  Hellboy II: The Golden Army (2008)   \n",
       "\n",
       "                                       Genre  rating_count  rating_avg  \\\n",
       "15203  Action Adventure Sci-Fi Thriller IMAX    224.000000    3.582589   \n",
       "20906            Action Sci-Fi Thriller IMAX     91.000000    3.675824   \n",
       "17874           Action Adventure Sci-Fi IMAX    249.000000    3.947791   \n",
       "12742                          Action Sci-Fi    131.000000    3.339695   \n",
       "12409        Action Adventure Fantasy Sci-Fi    116.000000    3.366379   \n",
       "\n",
       "       similarity  \n",
       "15203   -1.617761  \n",
       "20906   -1.450233  \n",
       "17874   -1.118568  \n",
       "12742   -1.076318  \n",
       "12409   -0.620550  "
      ]
     },
     "execution_count": 49,
     "metadata": {},
     "output_type": "execute_result"
    }
   ],
   "source": [
    "# Iron Man\n",
    "similarityResult  = checkSimilarity(59315)\n",
    "similarityResult.head(5)"
   ]
  },
  {
   "cell_type": "code",
   "execution_count": 50,
   "metadata": {
    "_uuid": "79f35c96a578a7e98acd31d97aa3b2ea5aadd8ef"
   },
   "outputs": [
    {
     "data": {
      "text/html": [
       "<div>\n",
       "<style scoped>\n",
       "    .dataframe tbody tr th:only-of-type {\n",
       "        vertical-align: middle;\n",
       "    }\n",
       "\n",
       "    .dataframe tbody tr th {\n",
       "        vertical-align: top;\n",
       "    }\n",
       "\n",
       "    .dataframe thead th {\n",
       "        text-align: right;\n",
       "    }\n",
       "</style>\n",
       "<table border=\"1\" class=\"dataframe\">\n",
       "  <thead>\n",
       "    <tr style=\"text-align: right;\">\n",
       "      <th></th>\n",
       "      <th>movieId</th>\n",
       "      <th>title</th>\n",
       "      <th>Genre</th>\n",
       "      <th>rating_count</th>\n",
       "      <th>rating_avg</th>\n",
       "      <th>similarity</th>\n",
       "    </tr>\n",
       "  </thead>\n",
       "  <tbody>\n",
       "    <tr>\n",
       "      <th>1183</th>\n",
       "      <td>1209</td>\n",
       "      <td>Once Upon a Time in the West (C'era una volta ...</td>\n",
       "      <td>Action Drama Western</td>\n",
       "      <td>244.000000</td>\n",
       "      <td>4.098361</td>\n",
       "      <td>-1.126314</td>\n",
       "    </tr>\n",
       "    <tr>\n",
       "      <th>2865</th>\n",
       "      <td>2951</td>\n",
       "      <td>Fistful of Dollars, A (Per un pugno di dollari...</td>\n",
       "      <td>Action Western</td>\n",
       "      <td>377.000000</td>\n",
       "      <td>3.957560</td>\n",
       "      <td>-0.951320</td>\n",
       "    </tr>\n",
       "    <tr>\n",
       "      <th>3590</th>\n",
       "      <td>3681</td>\n",
       "      <td>For a Few Dollars More (Per qualche dollaro in...</td>\n",
       "      <td>Action Drama Thriller Western</td>\n",
       "      <td>258.000000</td>\n",
       "      <td>3.951550</td>\n",
       "      <td>-0.800084</td>\n",
       "    </tr>\n",
       "    <tr>\n",
       "      <th>3418</th>\n",
       "      <td>3508</td>\n",
       "      <td>Outlaw Josey Wales, The (1976)</td>\n",
       "      <td>Action Adventure Drama Thriller Western</td>\n",
       "      <td>185.000000</td>\n",
       "      <td>3.886486</td>\n",
       "      <td>-0.460397</td>\n",
       "    </tr>\n",
       "    <tr>\n",
       "      <th>4232</th>\n",
       "      <td>4327</td>\n",
       "      <td>Magnificent Seven, The (1960)</td>\n",
       "      <td>Adventure Western</td>\n",
       "      <td>218.000000</td>\n",
       "      <td>3.961009</td>\n",
       "      <td>-0.331689</td>\n",
       "    </tr>\n",
       "  </tbody>\n",
       "</table>\n",
       "</div>"
      ],
      "text/plain": [
       "      movieId                                              title  \\\n",
       "1183     1209  Once Upon a Time in the West (C'era una volta ...   \n",
       "2865     2951  Fistful of Dollars, A (Per un pugno di dollari...   \n",
       "3590     3681  For a Few Dollars More (Per qualche dollaro in...   \n",
       "3418     3508                     Outlaw Josey Wales, The (1976)   \n",
       "4232     4327                      Magnificent Seven, The (1960)   \n",
       "\n",
       "                                        Genre  rating_count  rating_avg  \\\n",
       "1183                     Action Drama Western    244.000000    4.098361   \n",
       "2865                           Action Western    377.000000    3.957560   \n",
       "3590            Action Drama Thriller Western    258.000000    3.951550   \n",
       "3418  Action Adventure Drama Thriller Western    185.000000    3.886486   \n",
       "4232                        Adventure Western    218.000000    3.961009   \n",
       "\n",
       "      similarity  \n",
       "1183   -1.126314  \n",
       "2865   -0.951320  \n",
       "3590   -0.800084  \n",
       "3418   -0.460397  \n",
       "4232   -0.331689  "
      ]
     },
     "execution_count": 50,
     "metadata": {},
     "output_type": "execute_result"
    }
   ],
   "source": [
    "# The Good, the Bad and the Ugly\n",
    "similarityResult  = checkSimilarity(1201)\n",
    "similarityResult.head(5)"
   ]
  },
  {
   "cell_type": "code",
   "execution_count": 57,
   "metadata": {
    "_uuid": "333df65cee674a13f98f2b9a78955188f2af9bce"
   },
   "outputs": [
    {
     "data": {
      "text/html": [
       "<div>\n",
       "<style scoped>\n",
       "    .dataframe tbody tr th:only-of-type {\n",
       "        vertical-align: middle;\n",
       "    }\n",
       "\n",
       "    .dataframe tbody tr th {\n",
       "        vertical-align: top;\n",
       "    }\n",
       "\n",
       "    .dataframe thead th {\n",
       "        text-align: right;\n",
       "    }\n",
       "</style>\n",
       "<table border=\"1\" class=\"dataframe\">\n",
       "  <thead>\n",
       "    <tr style=\"text-align: right;\">\n",
       "      <th></th>\n",
       "      <th>movieId</th>\n",
       "      <th>title</th>\n",
       "      <th>Genre</th>\n",
       "      <th>rating_count</th>\n",
       "      <th>rating_avg</th>\n",
       "      <th>similarity</th>\n",
       "    </tr>\n",
       "  </thead>\n",
       "  <tbody>\n",
       "    <tr>\n",
       "      <th>12631</th>\n",
       "      <td>59315</td>\n",
       "      <td>Iron Man (2008)</td>\n",
       "      <td>Action Adventure Sci-Fi</td>\n",
       "      <td>593.000000</td>\n",
       "      <td>3.960371</td>\n",
       "      <td>-0.793714</td>\n",
       "    </tr>\n",
       "    <tr>\n",
       "      <th>12409</th>\n",
       "      <td>57640</td>\n",
       "      <td>Hellboy II: The Golden Army (2008)</td>\n",
       "      <td>Action Adventure Fantasy Sci-Fi</td>\n",
       "      <td>116.000000</td>\n",
       "      <td>3.366379</td>\n",
       "      <td>-0.660846</td>\n",
       "    </tr>\n",
       "    <tr>\n",
       "      <th>11020</th>\n",
       "      <td>45499</td>\n",
       "      <td>X-Men: The Last Stand (2006)</td>\n",
       "      <td>Action Sci-Fi Thriller</td>\n",
       "      <td>305.000000</td>\n",
       "      <td>3.355738</td>\n",
       "      <td>-0.569357</td>\n",
       "    </tr>\n",
       "    <tr>\n",
       "      <th>13677</th>\n",
       "      <td>68319</td>\n",
       "      <td>X-Men Origins: Wolverine (2009)</td>\n",
       "      <td>Action Sci-Fi Thriller</td>\n",
       "      <td>141.000000</td>\n",
       "      <td>3.241135</td>\n",
       "      <td>-0.558853</td>\n",
       "    </tr>\n",
       "    <tr>\n",
       "      <th>15203</th>\n",
       "      <td>77561</td>\n",
       "      <td>Iron Man 2 (2010)</td>\n",
       "      <td>Action Adventure Sci-Fi Thriller IMAX</td>\n",
       "      <td>224.000000</td>\n",
       "      <td>3.582589</td>\n",
       "      <td>-0.531007</td>\n",
       "    </tr>\n",
       "    <tr>\n",
       "      <th>2556</th>\n",
       "      <td>2641</td>\n",
       "      <td>Superman II (1980)</td>\n",
       "      <td>Action Sci-Fi</td>\n",
       "      <td>441.000000</td>\n",
       "      <td>3.053288</td>\n",
       "      <td>-0.506734</td>\n",
       "    </tr>\n",
       "    <tr>\n",
       "      <th>7953</th>\n",
       "      <td>8636</td>\n",
       "      <td>Spider-Man 2 (2004)</td>\n",
       "      <td>Action Adventure Sci-Fi IMAX</td>\n",
       "      <td>858.000000</td>\n",
       "      <td>3.552448</td>\n",
       "      <td>-0.480304</td>\n",
       "    </tr>\n",
       "    <tr>\n",
       "      <th>3702</th>\n",
       "      <td>3793</td>\n",
       "      <td>X-Men (2000)</td>\n",
       "      <td>Action Adventure Sci-Fi</td>\n",
       "      <td>1422.000000</td>\n",
       "      <td>3.602672</td>\n",
       "      <td>-0.459219</td>\n",
       "    </tr>\n",
       "    <tr>\n",
       "      <th>17874</th>\n",
       "      <td>89745</td>\n",
       "      <td>Avengers, The (2012)</td>\n",
       "      <td>Action Adventure Sci-Fi IMAX</td>\n",
       "      <td>249.000000</td>\n",
       "      <td>3.947791</td>\n",
       "      <td>-0.446036</td>\n",
       "    </tr>\n",
       "    <tr>\n",
       "      <th>11911</th>\n",
       "      <td>53464</td>\n",
       "      <td>Fantastic Four: Rise of the Silver Surfer (2007)</td>\n",
       "      <td>Action Adventure Sci-Fi</td>\n",
       "      <td>103.000000</td>\n",
       "      <td>2.864078</td>\n",
       "      <td>-0.443641</td>\n",
       "    </tr>\n",
       "  </tbody>\n",
       "</table>\n",
       "</div>"
      ],
      "text/plain": [
       "       movieId                                             title  \\\n",
       "12631    59315                                   Iron Man (2008)   \n",
       "12409    57640                Hellboy II: The Golden Army (2008)   \n",
       "11020    45499                      X-Men: The Last Stand (2006)   \n",
       "13677    68319                   X-Men Origins: Wolverine (2009)   \n",
       "15203    77561                                 Iron Man 2 (2010)   \n",
       "2556      2641                                Superman II (1980)   \n",
       "7953      8636                               Spider-Man 2 (2004)   \n",
       "3702      3793                                      X-Men (2000)   \n",
       "17874    89745                              Avengers, The (2012)   \n",
       "11911    53464  Fantastic Four: Rise of the Silver Surfer (2007)   \n",
       "\n",
       "                                       Genre  rating_count  rating_avg  \\\n",
       "12631                Action Adventure Sci-Fi    593.000000    3.960371   \n",
       "12409        Action Adventure Fantasy Sci-Fi    116.000000    3.366379   \n",
       "11020                 Action Sci-Fi Thriller    305.000000    3.355738   \n",
       "13677                 Action Sci-Fi Thriller    141.000000    3.241135   \n",
       "15203  Action Adventure Sci-Fi Thriller IMAX    224.000000    3.582589   \n",
       "2556                           Action Sci-Fi    441.000000    3.053288   \n",
       "7953            Action Adventure Sci-Fi IMAX    858.000000    3.552448   \n",
       "3702                 Action Adventure Sci-Fi   1422.000000    3.602672   \n",
       "17874           Action Adventure Sci-Fi IMAX    249.000000    3.947791   \n",
       "11911                Action Adventure Sci-Fi    103.000000    2.864078   \n",
       "\n",
       "       similarity  \n",
       "12631   -0.793714  \n",
       "12409   -0.660846  \n",
       "11020   -0.569357  \n",
       "13677   -0.558853  \n",
       "15203   -0.531007  \n",
       "2556    -0.506734  \n",
       "7953    -0.480304  \n",
       "3702    -0.459219  \n",
       "17874   -0.446036  \n",
       "11911   -0.443641  "
      ]
     },
     "execution_count": 57,
     "metadata": {},
     "output_type": "execute_result"
    }
   ],
   "source": [
    "# The Incredible Hulk\n",
    "similarityResult  = checkSimilarity(60040)\n",
    "similarityResult.head(10)"
   ]
  },
  {
   "cell_type": "code",
   "execution_count": 52,
   "metadata": {
    "_uuid": "3b25f800bb9d93d0abfee6aacfff30c420041c2f"
   },
   "outputs": [
    {
     "data": {
      "text/html": [
       "<div>\n",
       "<style scoped>\n",
       "    .dataframe tbody tr th:only-of-type {\n",
       "        vertical-align: middle;\n",
       "    }\n",
       "\n",
       "    .dataframe tbody tr th {\n",
       "        vertical-align: top;\n",
       "    }\n",
       "\n",
       "    .dataframe thead th {\n",
       "        text-align: right;\n",
       "    }\n",
       "</style>\n",
       "<table border=\"1\" class=\"dataframe\">\n",
       "  <thead>\n",
       "    <tr style=\"text-align: right;\">\n",
       "      <th></th>\n",
       "      <th>movieId</th>\n",
       "      <th>title</th>\n",
       "      <th>Genre</th>\n",
       "      <th>rating_count</th>\n",
       "      <th>rating_avg</th>\n",
       "      <th>similarity</th>\n",
       "    </tr>\n",
       "  </thead>\n",
       "  <tbody>\n",
       "    <tr>\n",
       "      <th>17339</th>\n",
       "      <td>87433</td>\n",
       "      <td>Ghidorah, the Three-Headed Monster (San daikai...</td>\n",
       "      <td>Action Adventure Fantasy Sci-Fi</td>\n",
       "      <td>0.000000</td>\n",
       "      <td>0.000000</td>\n",
       "      <td>-0.441544</td>\n",
       "    </tr>\n",
       "    <tr>\n",
       "      <th>9932</th>\n",
       "      <td>32560</td>\n",
       "      <td>Invasion of Astro-Monster (Godzilla vs. Monste...</td>\n",
       "      <td>Action Adventure Sci-Fi</td>\n",
       "      <td>0.000000</td>\n",
       "      <td>0.000000</td>\n",
       "      <td>-0.342828</td>\n",
       "    </tr>\n",
       "    <tr>\n",
       "      <th>11900</th>\n",
       "      <td>53375</td>\n",
       "      <td>Godzilla vs. King Ghidorah (Gojira vs. Kingu G...</td>\n",
       "      <td>Action Sci-Fi</td>\n",
       "      <td>0.000000</td>\n",
       "      <td>0.000000</td>\n",
       "      <td>-0.316882</td>\n",
       "    </tr>\n",
       "    <tr>\n",
       "      <th>2280</th>\n",
       "      <td>2365</td>\n",
       "      <td>King Kong vs. Godzilla (Kingukongu tai Gojira)...</td>\n",
       "      <td>Action Sci-Fi</td>\n",
       "      <td>44.000000</td>\n",
       "      <td>2.806818</td>\n",
       "      <td>-0.247203</td>\n",
       "    </tr>\n",
       "    <tr>\n",
       "      <th>9826</th>\n",
       "      <td>32076</td>\n",
       "      <td>Godzilla vs. The Sea Monster (Gojira-Ebira-Mos...</td>\n",
       "      <td>Action Adventure Fantasy Sci-Fi</td>\n",
       "      <td>7.000000</td>\n",
       "      <td>1.785714</td>\n",
       "      <td>-0.219333</td>\n",
       "    </tr>\n",
       "  </tbody>\n",
       "</table>\n",
       "</div>"
      ],
      "text/plain": [
       "       movieId                                              title  \\\n",
       "17339    87433  Ghidorah, the Three-Headed Monster (San daikai...   \n",
       "9932     32560  Invasion of Astro-Monster (Godzilla vs. Monste...   \n",
       "11900    53375  Godzilla vs. King Ghidorah (Gojira vs. Kingu G...   \n",
       "2280      2365  King Kong vs. Godzilla (Kingukongu tai Gojira)...   \n",
       "9826     32076  Godzilla vs. The Sea Monster (Gojira-Ebira-Mos...   \n",
       "\n",
       "                                 Genre  rating_count  rating_avg  similarity  \n",
       "17339  Action Adventure Fantasy Sci-Fi      0.000000    0.000000   -0.441544  \n",
       "9932           Action Adventure Sci-Fi      0.000000    0.000000   -0.342828  \n",
       "11900                    Action Sci-Fi      0.000000    0.000000   -0.316882  \n",
       "2280                     Action Sci-Fi     44.000000    2.806818   -0.247203  \n",
       "9826   Action Adventure Fantasy Sci-Fi      7.000000    1.785714   -0.219333  "
      ]
     },
     "execution_count": 52,
     "metadata": {},
     "output_type": "execute_result"
    }
   ],
   "source": [
    "# King Kong Escapes (Kingu Kongu no gyakushû)\n",
    "similarityResult  = checkSimilarity(92518)\n",
    "similarityResult.head(5)"
   ]
  },
  {
   "cell_type": "code",
   "execution_count": 53,
   "metadata": {
    "_uuid": "ab6d44512550cdc0fe3d45467934d33fdd9e4f9f"
   },
   "outputs": [
    {
     "data": {
      "text/html": [
       "<div>\n",
       "<style scoped>\n",
       "    .dataframe tbody tr th:only-of-type {\n",
       "        vertical-align: middle;\n",
       "    }\n",
       "\n",
       "    .dataframe tbody tr th {\n",
       "        vertical-align: top;\n",
       "    }\n",
       "\n",
       "    .dataframe thead th {\n",
       "        text-align: right;\n",
       "    }\n",
       "</style>\n",
       "<table border=\"1\" class=\"dataframe\">\n",
       "  <thead>\n",
       "    <tr style=\"text-align: right;\">\n",
       "      <th></th>\n",
       "      <th>movieId</th>\n",
       "      <th>title</th>\n",
       "      <th>Genre</th>\n",
       "      <th>rating_count</th>\n",
       "      <th>rating_avg</th>\n",
       "      <th>similarity</th>\n",
       "    </tr>\n",
       "  </thead>\n",
       "  <tbody>\n",
       "    <tr>\n",
       "      <th>1792</th>\n",
       "      <td>1876</td>\n",
       "      <td>Deep Impact (1998)</td>\n",
       "      <td>Drama Sci-Fi Thriller</td>\n",
       "      <td>645.000000</td>\n",
       "      <td>2.949612</td>\n",
       "      <td>-0.772302</td>\n",
       "    </tr>\n",
       "    <tr>\n",
       "      <th>2249</th>\n",
       "      <td>2334</td>\n",
       "      <td>Siege, The (1998)</td>\n",
       "      <td>Action Thriller</td>\n",
       "      <td>146.000000</td>\n",
       "      <td>3.273973</td>\n",
       "      <td>-0.527885</td>\n",
       "    </tr>\n",
       "    <tr>\n",
       "      <th>2308</th>\n",
       "      <td>2393</td>\n",
       "      <td>Star Trek: Insurrection (1998)</td>\n",
       "      <td>Action Drama Romance Sci-Fi</td>\n",
       "      <td>482.000000</td>\n",
       "      <td>3.236515</td>\n",
       "      <td>-0.512835</td>\n",
       "    </tr>\n",
       "    <tr>\n",
       "      <th>1750</th>\n",
       "      <td>1831</td>\n",
       "      <td>Lost in Space (1998)</td>\n",
       "      <td>Action Adventure Sci-Fi</td>\n",
       "      <td>382.000000</td>\n",
       "      <td>2.668848</td>\n",
       "      <td>-0.505924</td>\n",
       "    </tr>\n",
       "    <tr>\n",
       "      <th>1752</th>\n",
       "      <td>1833</td>\n",
       "      <td>Mercury Rising (1998)</td>\n",
       "      <td>Action Drama Thriller</td>\n",
       "      <td>119.000000</td>\n",
       "      <td>3.025210</td>\n",
       "      <td>-0.473832</td>\n",
       "    </tr>\n",
       "  </tbody>\n",
       "</table>\n",
       "</div>"
      ],
      "text/plain": [
       "      movieId                           title                        Genre  \\\n",
       "1792     1876              Deep Impact (1998)        Drama Sci-Fi Thriller   \n",
       "2249     2334               Siege, The (1998)              Action Thriller   \n",
       "2308     2393  Star Trek: Insurrection (1998)  Action Drama Romance Sci-Fi   \n",
       "1750     1831            Lost in Space (1998)      Action Adventure Sci-Fi   \n",
       "1752     1833           Mercury Rising (1998)        Action Drama Thriller   \n",
       "\n",
       "      rating_count  rating_avg  similarity  \n",
       "1792    645.000000    2.949612   -0.772302  \n",
       "2249    146.000000    3.273973   -0.527885  \n",
       "2308    482.000000    3.236515   -0.512835  \n",
       "1750    382.000000    2.668848   -0.505924  \n",
       "1752    119.000000    3.025210   -0.473832  "
      ]
     },
     "execution_count": 53,
     "metadata": {},
     "output_type": "execute_result"
    }
   ],
   "source": [
    "# Armageddon\n",
    "similarityResult  = checkSimilarity(1917)\n",
    "similarityResult.head(5)"
   ]
  },
  {
   "cell_type": "code",
   "execution_count": 55,
   "metadata": {
    "_uuid": "d92651982ad90047b1e0ebe5e1049d830a89bc5b"
   },
   "outputs": [
    {
     "data": {
      "text/html": [
       "<div>\n",
       "<style scoped>\n",
       "    .dataframe tbody tr th:only-of-type {\n",
       "        vertical-align: middle;\n",
       "    }\n",
       "\n",
       "    .dataframe tbody tr th {\n",
       "        vertical-align: top;\n",
       "    }\n",
       "\n",
       "    .dataframe thead th {\n",
       "        text-align: right;\n",
       "    }\n",
       "</style>\n",
       "<table border=\"1\" class=\"dataframe\">\n",
       "  <thead>\n",
       "    <tr style=\"text-align: right;\">\n",
       "      <th></th>\n",
       "      <th>movieId</th>\n",
       "      <th>title</th>\n",
       "      <th>Genre</th>\n",
       "      <th>rating_count</th>\n",
       "      <th>rating_avg</th>\n",
       "      <th>similarity</th>\n",
       "    </tr>\n",
       "  </thead>\n",
       "  <tbody>\n",
       "    <tr>\n",
       "      <th>17425</th>\n",
       "      <td>87876</td>\n",
       "      <td>Cars 2 (2011)</td>\n",
       "      <td>Adventure Animation Children Comedy IMAX</td>\n",
       "      <td>17.000000</td>\n",
       "      <td>3.323529</td>\n",
       "      <td>-0.829660</td>\n",
       "    </tr>\n",
       "    <tr>\n",
       "      <th>22893</th>\n",
       "      <td>109420</td>\n",
       "      <td>Mater and the Ghostlight (2006)</td>\n",
       "      <td>Animation Children Comedy</td>\n",
       "      <td>2.000000</td>\n",
       "      <td>4.000000</td>\n",
       "      <td>-0.703647</td>\n",
       "    </tr>\n",
       "    <tr>\n",
       "      <th>11016</th>\n",
       "      <td>45431</td>\n",
       "      <td>Over the Hedge (2006)</td>\n",
       "      <td>Adventure Animation Children Comedy</td>\n",
       "      <td>114.000000</td>\n",
       "      <td>3.355263</td>\n",
       "      <td>-0.673029</td>\n",
       "    </tr>\n",
       "    <tr>\n",
       "      <th>2270</th>\n",
       "      <td>2355</td>\n",
       "      <td>Bug's Life, A (1998)</td>\n",
       "      <td>Adventure Animation Children Comedy</td>\n",
       "      <td>1075.000000</td>\n",
       "      <td>3.582326</td>\n",
       "      <td>-0.598527</td>\n",
       "    </tr>\n",
       "    <tr>\n",
       "      <th>4790</th>\n",
       "      <td>4886</td>\n",
       "      <td>Monsters, Inc. (2001)</td>\n",
       "      <td>Adventure Animation Children Comedy Fantasy</td>\n",
       "      <td>1256.000000</td>\n",
       "      <td>3.865844</td>\n",
       "      <td>-0.561366</td>\n",
       "    </tr>\n",
       "  </tbody>\n",
       "</table>\n",
       "</div>"
      ],
      "text/plain": [
       "       movieId                            title  \\\n",
       "17425    87876                    Cars 2 (2011)   \n",
       "22893   109420  Mater and the Ghostlight (2006)   \n",
       "11016    45431            Over the Hedge (2006)   \n",
       "2270      2355             Bug's Life, A (1998)   \n",
       "4790      4886            Monsters, Inc. (2001)   \n",
       "\n",
       "                                             Genre  rating_count  rating_avg  \\\n",
       "17425     Adventure Animation Children Comedy IMAX     17.000000    3.323529   \n",
       "22893                    Animation Children Comedy      2.000000    4.000000   \n",
       "11016          Adventure Animation Children Comedy    114.000000    3.355263   \n",
       "2270           Adventure Animation Children Comedy   1075.000000    3.582326   \n",
       "4790   Adventure Animation Children Comedy Fantasy   1256.000000    3.865844   \n",
       "\n",
       "       similarity  \n",
       "17425   -0.829660  \n",
       "22893   -0.703647  \n",
       "11016   -0.673029  \n",
       "2270    -0.598527  \n",
       "4790    -0.561366  "
      ]
     },
     "execution_count": 55,
     "metadata": {},
     "output_type": "execute_result"
    }
   ],
   "source": [
    "# Cars\n",
    "similarityResult  = checkSimilarity(45517)\n",
    "similarityResult.head(5)"
   ]
  },
  {
   "cell_type": "code",
   "execution_count": null,
   "metadata": {},
   "outputs": [],
   "source": []
  }
 ],
 "metadata": {
  "kernelspec": {
   "display_name": "Python 3",
   "language": "python",
   "name": "python3"
  },
  "language_info": {
   "codemirror_mode": {
    "name": "ipython",
    "version": 3
   },
   "file_extension": ".py",
   "mimetype": "text/x-python",
   "name": "python",
   "nbconvert_exporter": "python",
   "pygments_lexer": "ipython3",
   "version": "3.8.0"
  }
 },
 "nbformat": 4,
 "nbformat_minor": 1
}
